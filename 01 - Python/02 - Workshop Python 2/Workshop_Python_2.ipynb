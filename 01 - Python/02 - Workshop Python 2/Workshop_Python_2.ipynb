{
  "nbformat": 4,
  "nbformat_minor": 0,
  "metadata": {
    "colab": {
      "provenance": [],
      "collapsed_sections": [],
      "toc_visible": true,
      "include_colab_link": true
    },
    "kernelspec": {
      "name": "python3",
      "display_name": "Python 3"
    },
    "language_info": {
      "name": "python"
    }
  },
  "cells": [
    {
      "cell_type": "markdown",
      "metadata": {
        "id": "view-in-github",
        "colab_type": "text"
      },
      "source": [
        "<a href=\"https://colab.research.google.com/github/mcozono/TERA/blob/turma_python2_20221010/01%20-%20Python/02%20-%20Workshop%20Python%202/Workshop_Python_2.ipynb\" target=\"_parent\"><img src=\"https://colab.research.google.com/assets/colab-badge.svg\" alt=\"Open In Colab\"/></a>"
      ]
    },
    {
      "cell_type": "markdown",
      "source": [
        "#**Seja bem vindo ao Workshop de Python da TERA !**\n",
        "\n",
        "# **É muito bom ter você aqui ! :)**\n",
        "\n",
        "**Abordaremos os seguintes aspectos da programação em Python:**\n",
        "\n",
        "*   O que é o Python\n",
        "*   Ambiente de Desenvolvimento: Google Collab, Pycharm, Anaconda - Jupyter\n",
        "*   Estruturas de Dados Simples como Variáveis Nativas do Interpretador\n",
        "*   Operadores Lógicos como **and** e **or**\n",
        "*   Estruturas Compostas como Listas, Tuplas e Dicionários\n",
        "*   Estruturas Condicionais como **if**, **for**, **while*\n",
        " simples e compostas\n",
        "\n",
        "\n",
        "\n"
      ],
      "metadata": {
        "id": "OCNgspshXctV"
      }
    },
    {
      "cell_type": "code",
      "source": [],
      "metadata": {
        "id": "gBS0xJDepGwL"
      },
      "execution_count": null,
      "outputs": []
    },
    {
      "cell_type": "markdown",
      "source": [
        "# **Ambientes de Desenvolvimento**\n",
        "\n",
        "\n",
        "\n",
        "1.   Google Collab - Free, não precisa instalar e oferece uso de GPU e conecta no Google Drive - [colab.research.google.com](https://colab.research.google.com)\n",
        "2.   Pycharm - Versão Community ou Paga - Necessita de instalação tanto do Python em sua máquina bem como da IDE (Ambiente de Desenvolvimento) em sua máquina - https://www.jetbrains.com/pt-br/pycharm-edu/\n",
        "3.   Visual Studio Code - IDE Free da Microsoft que permite desenvolver com mais de uma linguagem no mesmo ambiente - https://code.visualstudio.com/\n",
        "4.  Anaconda - Suíte de Desenvolvimento Free e gestão de dependências e ambientes. Praticamente um canivete suíço para Análise e Ciência de Dados - https://www.anaconda.com/\n",
        "5.  Jupyter Notebook - Interface de Desenvolvimento Online Free que pode ser utilizado local ou pela internet - https://jupyter.org/\n",
        "\n",
        "\n"
      ],
      "metadata": {
        "id": "gQ8adi23aRBd"
      }
    },
    {
      "cell_type": "markdown",
      "source": [
        "#**Estratégia e Algoritmo:**\n",
        "\n",
        "**O que é um Algoritmo**\n",
        "\n",
        "*   Ações necessárias para atingir um objetivo\n",
        "*   Representação de como resolvemos um determinado problema\n",
        "* Será executado linha a linha pelo compilador ou interpretador\n",
        "* Geralmente os algoritmos dependem de algumas informações para iniciarem a sua execução : entrada\n",
        "* Os algoritmos geralmente geram uma saída após o seu processamento\n",
        "\n",
        "\n",
        "**Vamos planejar nosso desenvolvimento**\n",
        "\n",
        "1.   Leitura do Arquivo csv\n",
        "2.   Separação dos registros e criação da estrutura de dados\n",
        "3.   Cálculo da Média Geral\n",
        "4.   Verificação de Aprovação\n",
        "5.   Impressão do Resultado do Aluno\n",
        "6.   Cálculo do Acumulado pela Turma\n",
        "7.   Impressão da Média Geral\n",
        "\n",
        "\n",
        "\n"
      ],
      "metadata": {
        "id": "8TsK0WCV7gOf"
      }
    },
    {
      "cell_type": "markdown",
      "source": [
        "#**Estruturas de Dados**\n",
        "\n",
        "**Variáveis**\n",
        "\n",
        "Espaço em memória para armazenamento temporário de valores para processamento.\n",
        "\n",
        "Elas podem ser:\n",
        "\n",
        "  * **Primitivas** - Fazem parte do compilador ou interpretador\n",
        "  * **Compostas** - São definidas pelo desenvolvedor\n",
        "\n",
        "**E ainda podem se subdividir em:**\n",
        "  * **Mutáveis** - Permitem ter o seu conteúdo substituído ou alterado\n",
        "  * **Não Mutáveis** - Seu conteúdo não pode ser substituído\n",
        "\n",
        "\n",
        "**Variáveis e o Python**\n",
        "\n",
        "O Python é uma linguagem **FORTEMENTE TIPADA**, e o que é isso ?\n",
        "\n",
        "  Significa que ele valida o tipo do conteúdo e aloca o espaço de memória de acordo com este tipo. Porém ele o identifica de forma automática, sem precisar de uma definição explícita.\n",
        "\n",
        "Porém, uma vez definido, o interpretador não faz a conversão automática, e em caso de execuções com funções que esperam como parâmetro uma string, o interpretador poderá retornar erro para esta execução.\n",
        "\n",
        "\n",
        "**Condicionais para usarmos nas estruturas de decisão e laço**\n",
        "\n",
        "\n",
        "**Igual:** a == b\n",
        "\n",
        "**Diferente:**a != b\n",
        "\n",
        "**Menor que:** a < b\n",
        "\n",
        "**Menor ou igual a:** a <= b\n",
        "\n",
        "**Maior que:** a > b\n",
        "\n",
        "**Maior ou igual que:** a >= b\n",
        "\n"
      ],
      "metadata": {
        "id": "ghlfbxgXcdd0"
      }
    },
    {
      "cell_type": "markdown",
      "source": [
        "#**Decisores e Laços Condicionais:**\n",
        "\n",
        "**IF - Condição SE**\n",
        "```\n",
        "a = 33\n",
        "\n",
        "b = 200\n",
        "\n",
        "if b > a:\n",
        "  print(\"b é maior que a\")\n",
        "```\n",
        "\n",
        "**ELIF - SENÃO SE**\n",
        "```\n",
        "a = 33\n",
        "b = 33\n",
        "\n",
        "if b > a:\n",
        "  print(\"b é maior que  a\")\n",
        "\n",
        "elif a == b:\n",
        "  print(\"a e b são iguais\")\n",
        "\n",
        "```\n",
        "\n",
        "**FOR - Condição PARA**\n",
        "```\n",
        "frutas = [\"maçã\", \"banana\", \"cereja\"]\n",
        "\n",
        "for fruta in frutas:\n",
        "    print(fruta)\n",
        "```\n",
        "\n",
        "**ENQUANTO - Condição PARA**\n",
        "```\n",
        "i = 1\n",
        "while i < 6:\n",
        "  print(i)\n",
        "  i += 1\n",
        "```"
      ],
      "metadata": {
        "id": "1yuQBQgseN_6"
      }
    },
    {
      "cell_type": "markdown",
      "source": [
        "#**Tipos Primitivos e Compostos**"
      ],
      "metadata": {
        "id": "QJFlrSl9R-rO"
      }
    },
    {
      "cell_type": "code",
      "source": [
        "\n",
        "nome = \"Melissa\"\n",
        "idade = 42\n",
        "altura = 1.64\n",
        "peso = 70.5\n",
        "\n",
        "print('Aprendendo sobre tipos primitivos')\n",
        "\n",
        "print(type(nome))\n",
        "\n",
        "#endereco de memoria da variável\n",
        "print(hex(id(nome)))\n",
        "\n",
        "\n",
        "print(type(idade))\n",
        "print(type(altura))\n",
        "print(type(peso))\n",
        "\n",
        "#com erro\n",
        "print('Tipo de variável altura ' + str(type(altura)))\n",
        "\n",
        "#como corrigir\n",
        "print('Tipo da variável altura: ' + str(type(altura)))\n",
        "print('Tipo da variável nome: ' + str(type(nome)))\n",
        "print('Tipo da variável idade: ' + str(type(idade)))\n",
        "print('Tipo da variável altura: ' + str(type(altura))) \n",
        "print('Tipo da variável altura: ' + str(type(peso)))"
      ],
      "metadata": {
        "colab": {
          "base_uri": "https://localhost:8080/"
        },
        "id": "e9pUSDSFsGMt",
        "outputId": "fc79ab7b-ebd0-4d5a-c119-e8ed0fe5f066"
      },
      "execution_count": null,
      "outputs": [
        {
          "output_type": "stream",
          "name": "stdout",
          "text": [
            "Aprendendo sobre tipos primitivos\n",
            "<class 'str'>\n",
            "0x7f27b55f90f0\n",
            "<class 'int'>\n",
            "<class 'float'>\n",
            "<class 'float'>\n",
            "Tipo de variável altura <class 'float'>\n",
            "Tipo da variável altura: <class 'float'>\n",
            "Tipo da variável nome: <class 'str'>\n",
            "Tipo da variável idade: <class 'int'>\n",
            "Tipo da variável altura: <class 'float'>\n",
            "Tipo da variável altura: <class 'float'>\n"
          ]
        }
      ]
    },
    {
      "cell_type": "markdown",
      "source": [
        "#**Tuplas**\n"
      ],
      "metadata": {
        "id": "Ah0p3kLLGbzD"
      }
    },
    {
      "cell_type": "code",
      "source": [
        "tupla = tuple()\n",
        "print(type(tupla))\n",
        "\n",
        "#Criando tupla com ítens\n",
        "tupla_com_valores =(1, 2, 3)\n",
        "\n",
        "#Qual o tamanho da minha Tupla ?\n",
        "print('Tupla Original')\n",
        "print(len(tupla_com_valores))\n",
        "\n",
        "#Tuplas são imutáveis, não é permitido adicionar valores a tupla diretamente, mas temos como resolver :)\n",
        "tupla_com_valores = tupla_com_valores + (4,)\n",
        "\n",
        "#Qual o tamanho da minha Tupla ?\n",
        "print('Adicionei nova posição')\n",
        "print(str(len(tupla_com_valores)) + \"\\n\")\n",
        "\n",
        "\n",
        "\n",
        "#Percorrer a tupla\n",
        "for item in tupla_com_valores:\n",
        "  print(str(item) + \"\\n\")\n",
        "\n",
        "\n",
        "\n",
        "#vamos somar os ítens da tupla ?\n",
        "calculo = 0\n",
        "for item in tupla_com_valores:\n",
        "    calculo += item #incremental\n",
        "  \n",
        "\n",
        "print('Resultado da soma '+ str(calculo))\n",
        "\n",
        "#Pesquisa na Tupla\n",
        "tupla_com_valores.index(2)"
      ],
      "metadata": {
        "colab": {
          "base_uri": "https://localhost:8080/"
        },
        "id": "77tWJjTwEpMv",
        "outputId": "565092ef-87af-422c-eaa3-30052a72c0a4"
      },
      "execution_count": null,
      "outputs": [
        {
          "output_type": "stream",
          "name": "stdout",
          "text": [
            "<class 'tuple'>\n",
            "Tupla Original\n",
            "3\n",
            "Adicionei nova posição\n",
            "4\n",
            "\n",
            "1\n",
            "\n",
            "2\n",
            "\n",
            "3\n",
            "\n",
            "4\n",
            "\n",
            "Resultado da soma 10\n"
          ]
        },
        {
          "output_type": "execute_result",
          "data": {
            "text/plain": [
              "1"
            ]
          },
          "metadata": {},
          "execution_count": 162
        }
      ]
    },
    {
      "cell_type": "markdown",
      "source": [
        "#**Listas**"
      ],
      "metadata": {
        "id": "op2x3sZgSPXb"
      }
    },
    {
      "cell_type": "code",
      "source": [
        "lista = list()\n",
        "\n",
        "print (type(lista))\n",
        "\n",
        "#Criando lista com ítens\n",
        "lista_com_valores = [1, 2, 3]\n",
        "\n",
        "\n",
        "#Qual o tamanho da minha Lista ?\n",
        "print('Tamanho da Lista')\n",
        "print(len(lista_com_valores))\n",
        "\n",
        "\n",
        "#Adicionando um ítem ao fim da lista\n",
        "print('Adicionando um ítem ao fim da lista')\n",
        "lista_com_valores.append(4)\n",
        "print(len(lista_com_valores))\n",
        "\n",
        "#Adicionando um ítem em uma posição na lista\n",
        "print('Adicionando um ítem em uma posição na lista')\n",
        "lista_com_valores.insert(4,1)\n",
        "\n",
        "print('Tamanho da lista após adicionar um ítem')\n",
        "print(len(lista_com_valores))\n",
        "\n",
        "#percorrendo items da lista com valores\n",
        "print('percorrendo items da lista com valores')\n",
        "for item in lista_com_valores:\n",
        "  print(item)\n",
        "\n",
        "#lista apos remocao\n",
        "#print(len(lista_com_valores))\n",
        "\n",
        "#após a remoção como ficoiu a lista\n",
        "print('percorrendo items da lista com valores')\n",
        "for item in lista_com_valores:\n",
        "  print(item)\n",
        "\n",
        "#ordenação reversa\n",
        "lista_com_valores.sort(reverse=True) #pode ser usado como variavel.reverse()\n",
        "print('percorrendo items da lista com valores, após ordenação reversa')\n",
        "for item in lista_com_valores:\n",
        "  print(item)\n",
        "\n",
        "\n",
        "#ordenação crescente\n",
        "lista_com_valores.sort()\n",
        "print('percorrendo items da lista com valores, após ordenação crescente')\n",
        "\n",
        "for item in lista_com_valores:\n",
        "  print(item)\n",
        "\n",
        "\n"
      ],
      "metadata": {
        "colab": {
          "base_uri": "https://localhost:8080/"
        },
        "id": "t_6M5MKNGbik",
        "outputId": "4d5eb801-8cfa-4583-d7ad-e0c767f9434c"
      },
      "execution_count": null,
      "outputs": [
        {
          "output_type": "stream",
          "name": "stdout",
          "text": [
            "<class 'list'>\n",
            "Tamanho da Lista\n",
            "3\n",
            "Adicionando um ítem ao fim da lista\n",
            "4\n",
            "Adicionando um ítem em uma posição na lista\n",
            "Tamanho da lista após adicionar um ítem\n",
            "5\n",
            "percorrendo items da lista com valores\n",
            "1\n",
            "2\n",
            "3\n",
            "4\n",
            "1\n",
            "percorrendo items da lista com valores\n",
            "1\n",
            "2\n",
            "3\n",
            "4\n",
            "1\n",
            "percorrendo items da lista com valores, após ordenação reversa\n",
            "4\n",
            "3\n",
            "2\n",
            "1\n",
            "1\n",
            "percorrendo items da lista com valores, após ordenação crescente\n",
            "1\n",
            "1\n",
            "2\n",
            "3\n",
            "4\n"
          ]
        }
      ]
    },
    {
      "cell_type": "code",
      "source": [
        "\n",
        "#remover ítem da lista informando a sua posição\n",
        "#Criando lista com ítens\n",
        "lista_com_valores = [1, 2, 3]\n",
        "\n",
        "print(\"remover ítem da lista informando a sua posição\")\n",
        "lista_com_valores.pop(0)\n",
        "\n",
        "#ordenação crescente\n",
        "lista_com_valores.sort()\n",
        "print('percorrendo items da lista com valores, após ordenação crescente')\n",
        "\n",
        "for item in lista_com_valores:\n",
        "  print(item)"
      ],
      "metadata": {
        "colab": {
          "base_uri": "https://localhost:8080/"
        },
        "id": "Vd_vx4HqXTJh",
        "outputId": "10c4bbd8-038c-4d5f-e9d8-6f6ba0b47d40"
      },
      "execution_count": null,
      "outputs": [
        {
          "output_type": "stream",
          "name": "stdout",
          "text": [
            "remover ítem da lista informando a sua posição\n"
          ]
        },
        {
          "output_type": "execute_result",
          "data": {
            "text/plain": [
              "1"
            ]
          },
          "metadata": {},
          "execution_count": 170
        }
      ]
    },
    {
      "cell_type": "markdown",
      "source": [
        "#**Dicionários**"
      ],
      "metadata": {
        "id": "C28Pt5GFSSPr"
      }
    },
    {
      "cell_type": "code",
      "source": [
        "dicionario = {\"mae\": \"Melissa\", \n",
        "              \"parente\": \"Marcel\", \n",
        "              \"filha\": \"Rafaela\", \n",
        "              \"filho\": \"Benício\"}\n",
        "              \n",
        "\n",
        "#tipo de estrutura\n",
        "print(\"Imprimindo o tipo de estrutura de dados\")\n",
        "print(type(dicionario))\n",
        "\n",
        "\n",
        "#Atualizando uma chave\n",
        "print(\"Atualizando uma chave\")\n",
        "#Chave Parente antres da Atualização\n",
        "print(dicionario[\"parente\"])\n",
        "\n",
        "#Chave Parente depois da Atualização\n",
        "dicionario[\"parente\"] = \"Alícia\"\n",
        "print(dicionario[\"parente\"]) \n",
        "\n",
        "#Tamanho do dicionário\n",
        "print(\"Tamanho do dicionário\")\n",
        "print(len(dicionario))\n",
        "\n",
        "#Como ficou o dicionário\n",
        "print(\"Como ficou o dicionário\")\n",
        "print(dicionario)\n",
        "\n",
        "#Recuperando as chaves do Dicionário\n",
        "print(\"Recuperando as chaves do Dicionário\")\n",
        "print(dicionario.keys())\n",
        "\n",
        "#Recuperando os valores do dicionário\n",
        "print(\"Recuperando os valores do dicionário\")\n",
        "print(dicionario.values())\n",
        "\n",
        "#Recuperando a estrutura de chave-valor do dicionário\n",
        "print(\"Recuperando a estrutura de chave-valor do dicionário\")\n",
        "print(dicionario.items())\n",
        "\n",
        "#Removendo o ítem\n",
        "print(\"Removendo o ítem\")\n",
        "dicionario.pop(\"parente\")\n",
        "print(dicionario.items())\n",
        "\n",
        "#Criando um dicionário composto\n",
        "print(\"Criando um dicionário composto\")\n",
        "filho1 = {\n",
        "  \"name\" : \"Rafaela\",\n",
        "  \"year\" : 2018\n",
        "}\n",
        "\n",
        "filho2 = {\n",
        "  \"name\" : \"Benicio\",\n",
        "  \"year\" : 2019\n",
        "}\n",
        "\n",
        "minhaFamilia = {\n",
        "  \"child1\" : filho1,\n",
        "  \"child2\" : filho2\n",
        "}\n",
        "\n",
        "#Criando um dicionário composto\n",
        "print(\"Criando um dicionário composto - verificando Itens\")\n",
        "print(minhaFamilia.items())\n",
        "\n",
        "\n",
        "#Percorrendo a estrutura aninhada\n",
        "print(\"Percorrendo a estrutura aninhada\")\n",
        "for x in minhaFamilia.keys():\n",
        "  print(x)\n",
        "  for j in minhaFamilia[x].values():\n",
        "    print(j)\n",
        "\n"
      ],
      "metadata": {
        "colab": {
          "base_uri": "https://localhost:8080/"
        },
        "id": "2rAI7JlVL1X3",
        "outputId": "75611205-6def-4282-ad17-8e9b32a17488"
      },
      "execution_count": null,
      "outputs": [
        {
          "output_type": "stream",
          "name": "stdout",
          "text": [
            "Imprimindo o tipo de estrutura de dados\n",
            "<class 'dict'>\n",
            "Atualizando uma chave\n",
            "Marcel\n",
            "Alícia\n",
            "Tamanho do dicionário\n",
            "4\n",
            "Como ficou o dicionário\n",
            "{'mae': 'Melissa', 'parente': 'Alícia', 'filha': 'Rafaela', 'filho': 'Benício'}\n",
            "Recuperando as chaves do Dicionário\n",
            "dict_keys(['mae', 'parente', 'filha', 'filho'])\n",
            "Recuperando os valores do dicionário\n",
            "dict_values(['Melissa', 'Alícia', 'Rafaela', 'Benício'])\n",
            "Recuperando a estrutura de chave-valor do dicionário\n",
            "dict_items([('mae', 'Melissa'), ('parente', 'Alícia'), ('filha', 'Rafaela'), ('filho', 'Benício')])\n",
            "Removendo o ítem\n",
            "dict_items([('mae', 'Melissa'), ('filha', 'Rafaela'), ('filho', 'Benício')])\n",
            "Criando um dicionário composto\n",
            "Criando um dicionário composto - verificando Itens\n",
            "dict_items([('child1', {'name': 'Rafaela', 'year': 2018}), ('child2', {'name': 'Benicio', 'year': 2019})])\n",
            "Percorrendo a estrutura aninhada\n",
            "child1\n",
            "Rafaela\n",
            "2018\n",
            "child2\n",
            "Benicio\n",
            "2019\n"
          ]
        }
      ]
    },
    {
      "cell_type": "code",
      "source": [
        "from google.colab import drive\n",
        "\n",
        "drive.mount('/content/drive')"
      ],
      "metadata": {
        "id": "jDwTtxBbSk86",
        "outputId": "7bdc4e6c-fce3-40ae-eef4-5f7d82fa8965",
        "colab": {
          "base_uri": "https://localhost:8080/"
        }
      },
      "execution_count": null,
      "outputs": [
        {
          "output_type": "stream",
          "name": "stdout",
          "text": [
            "Drive already mounted at /content/drive; to attempt to forcibly remount, call drive.mount(\"/content/drive\", force_remount=True).\n"
          ]
        }
      ]
    },
    {
      "cell_type": "markdown",
      "source": [
        "#**Estudo de Caso**\n",
        "\n",
        "Temos uma lista de notas da turma de Python 101 compostas dos resultados das avaliações N1, N2, Sub formatada em um arquivo csv.\n",
        "\n",
        "Nossa missão é calcular a Média Final e exibir o resultado da turma por aluno e depois a Méda Global da Turma.\n",
        "\n",
        "---\n",
        "**Segue forma de cálculo da métrica:**\n",
        "\n",
        "**MF** = (((N1 x 0.4) + (N2 x 0.6)) /(N1+N2)).\n",
        "\n",
        "**Caso não tenha atingido a Média com a N1 e N2:**\n",
        "\n",
        "**MF com Sub** = (((N1 x 0.4) + (N2 x 0.6)) + Sub /(N1+N2+Sub))\n",
        "\n",
        "--- \n",
        "\n",
        "A Sub só é aplicada quando o aluno não atinge a média com a N1 e N2.\n",
        "\n",
        "**O Aluno é aprovado em caso de Média Final Maior ou Igual a 7. Menor que 7 o aluno é encaminhado para DP.**\n",
        "\n",
        "\n"
      ],
      "metadata": {
        "id": "1jaK5QEYZZfp"
      }
    },
    {
      "cell_type": "markdown",
      "source": [
        "**Layout do Arquivo**\n",
        "\n",
        "matricula,nome,n1,n2,sub\n",
        "\n",
        "**Dicionário de Dados**\n",
        "\n",
        "Dicionário de Dados é um artefato de arquitetura de dados que documenta a estrutura de uma entrada de dados, criando um \"contrato\" entre utilizadores da estrutura.\n",
        "\n",
        "\n",
        "|Campo |Tipo |Posição\n",
        "|:-----: |:----: |:-------:\n",
        "|matricula|Inteiro|1\n",
        "|nome|Alfanumérico|2\n",
        "|n1|Real|3\n",
        "|n2|Real|4\n",
        "|sub|Real|5\n",
        "\n",
        "---\n",
        "\n",
        "\n"
      ],
      "metadata": {
        "id": "CaI8FUMX7tTs"
      }
    },
    {
      "cell_type": "markdown",
      "source": [
        "#**Live Coding**\n",
        "\n"
      ],
      "metadata": {
        "id": "0_hwyYYhb6tS"
      }
    },
    {
      "cell_type": "code",
      "source": [
        "import csv as csv\n",
        "\n",
        "\n",
        "caminho_arquivo = \"/content/drive/MyDrive/44 - Apresentações/01 - TERA/02  - Python/01 - Workshop 01/notas.csv\" \n",
        "\n",
        "total_alunos = 0\n",
        "nota_total  = 0.0\n",
        "with open(caminho_arquivo) as f:\n",
        "\n",
        "    reader = csv.DictReader(f)\n",
        "    print(\"nr de linhas\")\n",
        "    #print(reader.line_num)\n",
        "    for aluno in reader:\n",
        "        total_alunos += 1\n",
        "\n",
        "        codigo_aluno = aluno[\"codigo_aluno\"]\n",
        "        nome_aluno = aluno[\"nome_aluno\"]\n",
        "        n1 = float(aluno[\"n1\"])\n",
        "        n2 = float(aluno[\"n2\"])\n",
        "        sub = float(aluno[\"sub\"])\n",
        "   \n",
        "        soma_notas_regular = n1+ n2\n",
        "        media_ponderada_regular = (((n1*0.4) + (n2 * 0.6))/\n",
        "                                   soma_notas_regular)*10\n",
        "\n",
        "        print(\"Código \"+ codigo_aluno + \" - Aluno \" + nome_aluno)\n",
        "        \n",
        "        if float(media_ponderada_regular) >= 7:\n",
        "          print(\"Aprovado \\n\")\n",
        "          nota_total += media_ponderada_regular\n",
        "        else:\n",
        "          print(\"Foi para sub\")\n",
        "\n",
        "          soma_notas_sub= soma_notas_regular + sub\n",
        "          media_ponderada_sub = (((n1*0.4) + (n2 * 0.6) + sub)/\n",
        "                                 soma_notas_sub)*10\n",
        "          nota_total += media_ponderada_sub\n",
        "\n",
        "          if float(media_ponderada_sub) >= 7:\n",
        "            print(\"Aprovado com sub\")\n",
        "          else:\n",
        "           print(\"reprovado\")\n",
        "          \n",
        "          print(\"Média com sub: \"+ str(media_ponderada_sub) + \"\\n\")\n",
        "\n",
        "\n",
        "          print(\"resultado final - media global\")\n",
        "\n",
        "          mg = (nota_total / total_alunos)\n",
        "          print(str(mg) + \" - Média Global\")\n"
      ],
      "metadata": {
        "id": "4FN09t72S0Do",
        "outputId": "26eefad6-b680-456b-872d-e520cac05b6d",
        "colab": {
          "base_uri": "https://localhost:8080/"
        }
      },
      "execution_count": null,
      "outputs": [
        {
          "output_type": "stream",
          "name": "stdout",
          "text": [
            "nr de linhas\n",
            "Código 1 - Aluno Rafaela Aimi\n",
            "Foi para sub\n",
            "reprovado\n",
            "Média com sub: 5.542857142857143\n",
            "\n",
            "resultado final - media global\n",
            "5.542857142857143 - Média Global\n",
            "Código 2 - Aluno Benício Akira\n",
            "Foi para sub\n",
            "reprovado\n",
            "Média com sub: 6.9\n",
            "\n",
            "resultado final - media global\n",
            "6.2214285714285715 - Média Global\n",
            "Código 3 - Aluno Marcel Rodrigo\n",
            "Foi para sub\n",
            "reprovado\n",
            "Média com sub: 4.888888888888889\n",
            "\n",
            "resultado final - media global\n",
            "5.777248677248678 - Média Global\n",
            "Código 4 - Aluno Vladimir Junior\n",
            "Foi para sub\n",
            "reprovado\n",
            "Média com sub: 6.315789473684211\n",
            "\n",
            "resultado final - media global\n",
            "5.91188387635756 - Média Global\n",
            "Código 5 - Aluno Marcel Cozono\n",
            "Foi para sub\n",
            "Aprovado com sub\n",
            "Média com sub: 7.222222222222222\n",
            "\n",
            "resultado final - media global\n",
            "6.1739515455304925 - Média Global\n"
          ]
        }
      ]
    },
    {
      "cell_type": "markdown",
      "source": [
        "#**Verificação da Versão do Python**"
      ],
      "metadata": {
        "id": "iS1EtHRzgpnp"
      }
    },
    {
      "cell_type": "code",
      "source": [
        "!python --version"
      ],
      "metadata": {
        "colab": {
          "base_uri": "https://localhost:8080/"
        },
        "id": "Nn2U-nsQdLRc",
        "outputId": "1f963e20-734f-4fd3-b473-aa1873946225"
      },
      "execution_count": null,
      "outputs": [
        {
          "output_type": "stream",
          "name": "stdout",
          "text": [
            "Python 3.7.14\n"
          ]
        }
      ]
    },
    {
      "cell_type": "markdown",
      "source": [
        "#**Verificação das Bibliotecas Instaladas**"
      ],
      "metadata": {
        "id": "moQFJvsFhST_"
      }
    },
    {
      "cell_type": "code",
      "source": [
        "!pip freeze"
      ],
      "metadata": {
        "id": "l6BbRC1jdfCg",
        "outputId": "72175883-da67-432e-e204-c9c2ad3b5112",
        "colab": {
          "base_uri": "https://localhost:8080/"
        }
      },
      "execution_count": null,
      "outputs": [
        {
          "output_type": "stream",
          "name": "stdout",
          "text": [
            "absl-py==1.2.0\n",
            "aeppl==0.0.33\n",
            "aesara==2.7.9\n",
            "aiohttp==3.8.3\n",
            "aiosignal==1.2.0\n",
            "alabaster==0.7.12\n",
            "albumentations==1.2.1\n",
            "altair==4.2.0\n",
            "appdirs==1.4.4\n",
            "arviz==0.12.1\n",
            "astor==0.8.1\n",
            "astropy==4.3.1\n",
            "astunparse==1.6.3\n",
            "async-timeout==4.0.2\n",
            "asynctest==0.13.0\n",
            "atari-py==0.2.9\n",
            "atomicwrites==1.4.1\n",
            "attrs==22.1.0\n",
            "audioread==3.0.0\n",
            "autograd==1.5\n",
            "Babel==2.10.3\n",
            "backcall==0.2.0\n",
            "beautifulsoup4==4.6.3\n",
            "bleach==5.0.1\n",
            "blis==0.7.8\n",
            "bokeh==2.3.3\n",
            "branca==0.5.0\n",
            "bs4==0.0.1\n",
            "CacheControl==0.12.11\n",
            "cached-property==1.5.2\n",
            "cachetools==4.2.4\n",
            "catalogue==2.0.8\n",
            "certifi==2022.9.24\n",
            "cffi==1.15.1\n",
            "cftime==1.6.2\n",
            "chardet==3.0.4\n",
            "charset-normalizer==2.1.1\n",
            "click==7.1.2\n",
            "clikit==0.6.2\n",
            "cloudpickle==1.5.0\n",
            "cmake==3.22.6\n",
            "cmdstanpy==1.0.7\n",
            "colorcet==3.0.1\n",
            "colorlover==0.3.0\n",
            "community==1.0.0b1\n",
            "confection==0.0.2\n",
            "cons==0.4.5\n",
            "contextlib2==0.5.5\n",
            "convertdate==2.4.0\n",
            "crashtest==0.3.1\n",
            "crcmod==1.7\n",
            "cufflinks==0.17.3\n",
            "cvxopt==1.3.0\n",
            "cvxpy==1.2.1\n",
            "cycler==0.11.0\n",
            "cymem==2.0.6\n",
            "Cython==0.29.32\n",
            "daft==0.0.4\n",
            "dask==2022.2.0\n",
            "datascience==0.17.5\n",
            "debugpy==1.0.0\n",
            "decorator==4.4.2\n",
            "defusedxml==0.7.1\n",
            "descartes==1.1.0\n",
            "dill==0.3.5.1\n",
            "distributed==2022.2.0\n",
            "dlib==19.24.0\n",
            "dm-tree==0.1.7\n",
            "docutils==0.17.1\n",
            "dopamine-rl==1.0.5\n",
            "earthengine-api==0.1.326\n",
            "easydict==1.10\n",
            "ecos==2.0.10\n",
            "editdistance==0.5.3\n",
            "en-core-web-sm @ https://github.com/explosion/spacy-models/releases/download/en_core_web_sm-3.4.0/en_core_web_sm-3.4.0-py3-none-any.whl\n",
            "entrypoints==0.4\n",
            "ephem==4.1.3\n",
            "et-xmlfile==1.1.0\n",
            "etils==0.8.0\n",
            "etuples==0.3.8\n",
            "fa2==0.3.5\n",
            "fastai==2.7.9\n",
            "fastcore==1.5.27\n",
            "fastdownload==0.0.7\n",
            "fastdtw==0.3.4\n",
            "fastjsonschema==2.16.2\n",
            "fastprogress==1.0.3\n",
            "fastrlock==0.8\n",
            "feather-format==0.4.1\n",
            "filelock==3.8.0\n",
            "firebase-admin==4.4.0\n",
            "fix-yahoo-finance==0.0.22\n",
            "Flask==1.1.4\n",
            "flatbuffers==22.9.24\n",
            "folium==0.12.1.post1\n",
            "frozenlist==1.3.1\n",
            "fsspec==2022.8.2\n",
            "future==0.16.0\n",
            "gast==0.5.3\n",
            "GDAL==2.2.2\n",
            "gdown==4.4.0\n",
            "gensim==3.6.0\n",
            "geographiclib==1.52\n",
            "geopy==1.17.0\n",
            "gin-config==0.5.0\n",
            "glob2==0.7\n",
            "google==2.0.3\n",
            "google-api-core==1.31.6\n",
            "google-api-python-client==1.12.11\n",
            "google-auth==1.35.0\n",
            "google-auth-httplib2==0.0.4\n",
            "google-auth-oauthlib==0.4.6\n",
            "google-cloud-bigquery==1.21.0\n",
            "google-cloud-bigquery-storage==1.1.2\n",
            "google-cloud-core==1.0.3\n",
            "google-cloud-datastore==1.8.0\n",
            "google-cloud-firestore==1.7.0\n",
            "google-cloud-language==1.2.0\n",
            "google-cloud-storage==1.18.1\n",
            "google-cloud-translate==1.5.0\n",
            "google-colab @ file:///colabtools/dist/google-colab-1.0.0.tar.gz\n",
            "google-pasta==0.2.0\n",
            "google-resumable-media==0.4.1\n",
            "googleapis-common-protos==1.56.4\n",
            "googledrivedownloader==0.4\n",
            "graphviz==0.10.1\n",
            "greenlet==1.1.3\n",
            "grpcio==1.49.1\n",
            "gspread==3.4.2\n",
            "gspread-dataframe==3.0.8\n",
            "gym==0.25.2\n",
            "gym-notices==0.0.8\n",
            "h5py==3.1.0\n",
            "HeapDict==1.0.1\n",
            "hijri-converter==2.2.4\n",
            "holidays==0.16\n",
            "holoviews==1.14.9\n",
            "html5lib==1.0.1\n",
            "httpimport==0.5.18\n",
            "httplib2==0.17.4\n",
            "httplib2shim==0.0.3\n",
            "httpstan==4.6.1\n",
            "humanize==0.5.1\n",
            "hyperopt==0.1.2\n",
            "idna==2.10\n",
            "imageio==2.9.0\n",
            "imagesize==1.4.1\n",
            "imbalanced-learn==0.8.1\n",
            "imblearn==0.0\n",
            "imgaug==0.4.0\n",
            "importlib-metadata==5.0.0\n",
            "importlib-resources==5.9.0\n",
            "imutils==0.5.4\n",
            "inflect==2.1.0\n",
            "intel-openmp==2022.2.0\n",
            "intervaltree==2.1.0\n",
            "ipykernel==5.3.4\n",
            "ipython==7.9.0\n",
            "ipython-genutils==0.2.0\n",
            "ipython-sql==0.3.9\n",
            "ipywidgets==7.7.1\n",
            "itsdangerous==1.1.0\n",
            "jax==0.3.21\n",
            "jaxlib @ https://storage.googleapis.com/jax-releases/cuda11/jaxlib-0.3.20+cuda11.cudnn805-cp37-cp37m-manylinux2014_x86_64.whl\n",
            "jieba==0.42.1\n",
            "Jinja2==2.11.3\n",
            "joblib==1.2.0\n",
            "jpeg4py==0.1.4\n",
            "jsonschema==4.3.3\n",
            "jupyter-client==6.1.12\n",
            "jupyter-console==6.1.0\n",
            "jupyter-core==4.11.1\n",
            "jupyterlab-widgets==3.0.3\n",
            "kaggle==1.5.12\n",
            "kapre==0.3.7\n",
            "keras==2.8.0\n",
            "Keras-Preprocessing==1.1.2\n",
            "keras-vis==0.4.1\n",
            "kiwisolver==1.4.4\n",
            "korean-lunar-calendar==0.3.1\n",
            "langcodes==3.3.0\n",
            "libclang==14.0.6\n",
            "librosa==0.8.1\n",
            "lightgbm==2.2.3\n",
            "llvmlite==0.39.1\n",
            "lmdb==0.99\n",
            "locket==1.0.0\n",
            "logical-unification==0.4.5\n",
            "LunarCalendar==0.0.9\n",
            "lxml==4.9.1\n",
            "Markdown==3.4.1\n",
            "MarkupSafe==2.0.1\n",
            "marshmallow==3.18.0\n",
            "matplotlib==3.2.2\n",
            "matplotlib-venn==0.11.7\n",
            "miniKanren==1.0.3\n",
            "missingno==0.5.1\n",
            "mistune==0.8.4\n",
            "mizani==0.7.3\n",
            "mkl==2019.0\n",
            "mlxtend==0.14.0\n",
            "more-itertools==8.14.0\n",
            "moviepy==0.2.3.5\n",
            "mpmath==1.2.1\n",
            "msgpack==1.0.4\n",
            "multidict==6.0.2\n",
            "multipledispatch==0.6.0\n",
            "multitasking==0.0.11\n",
            "murmurhash==1.0.8\n",
            "music21==5.5.0\n",
            "natsort==5.5.0\n",
            "nbconvert==5.6.1\n",
            "nbformat==5.6.1\n",
            "netCDF4==1.6.1\n",
            "networkx==2.6.3\n",
            "nibabel==3.0.2\n",
            "nltk==3.7\n",
            "notebook==5.3.1\n",
            "numba==0.56.2\n",
            "numexpr==2.8.3\n",
            "numpy==1.21.6\n",
            "oauth2client==4.1.3\n",
            "oauthlib==3.2.1\n",
            "okgrade==0.4.3\n",
            "opencv-contrib-python==4.6.0.66\n",
            "opencv-python==4.6.0.66\n",
            "opencv-python-headless==4.6.0.66\n",
            "openpyxl==3.0.10\n",
            "opt-einsum==3.3.0\n",
            "osqp==0.6.2.post0\n",
            "packaging==21.3\n",
            "palettable==3.3.0\n",
            "pandas==1.3.5\n",
            "pandas-datareader==0.9.0\n",
            "pandas-gbq==0.13.3\n",
            "pandas-profiling==1.4.1\n",
            "pandocfilters==1.5.0\n",
            "panel==0.12.1\n",
            "param==1.12.2\n",
            "parso==0.8.3\n",
            "partd==1.3.0\n",
            "pastel==0.2.1\n",
            "pathlib==1.0.1\n",
            "pathy==0.6.2\n",
            "patsy==0.5.2\n",
            "pep517==0.13.0\n",
            "pexpect==4.8.0\n",
            "pickleshare==0.7.5\n",
            "Pillow==7.1.2\n",
            "pip-tools==6.2.0\n",
            "plotly==5.5.0\n",
            "plotnine==0.8.0\n",
            "pluggy==0.7.1\n",
            "pooch==1.6.0\n",
            "portpicker==1.3.9\n",
            "prefetch-generator==1.0.1\n",
            "preshed==3.0.7\n",
            "prettytable==3.4.1\n",
            "progressbar2==3.38.0\n",
            "promise==2.3\n",
            "prompt-toolkit==2.0.10\n",
            "prophet==1.1.1\n",
            "protobuf==3.17.3\n",
            "psutil==5.4.8\n",
            "psycopg2==2.9.3\n",
            "ptyprocess==0.7.0\n",
            "py==1.11.0\n",
            "pyarrow==6.0.1\n",
            "pyasn1==0.4.8\n",
            "pyasn1-modules==0.2.8\n",
            "pycocotools==2.0.5\n",
            "pycparser==2.21\n",
            "pyct==0.4.8\n",
            "pydantic==1.9.2\n",
            "pydata-google-auth==1.4.0\n",
            "pydot==1.3.0\n",
            "pydot-ng==2.0.0\n",
            "pydotplus==2.0.2\n",
            "PyDrive==1.3.1\n",
            "pyemd==0.5.1\n",
            "pyerfa==2.0.0.1\n",
            "Pygments==2.6.1\n",
            "pygobject==3.26.1\n",
            "pylev==1.4.0\n",
            "pymc==4.1.4\n",
            "PyMeeus==0.5.11\n",
            "pymongo==4.2.0\n",
            "pymystem3==0.2.0\n",
            "PyOpenGL==3.1.6\n",
            "pyparsing==3.0.9\n",
            "pyrsistent==0.18.1\n",
            "pysimdjson==3.2.0\n",
            "pysndfile==1.3.8\n",
            "PySocks==1.7.1\n",
            "pystan==3.3.0\n",
            "pytest==3.6.4\n",
            "python-apt==0.0.0\n",
            "python-chess==0.23.11\n",
            "python-dateutil==2.8.2\n",
            "python-louvain==0.16\n",
            "python-slugify==6.1.2\n",
            "python-utils==3.3.3\n",
            "pytz==2022.4\n",
            "pyviz-comms==2.2.1\n",
            "PyWavelets==1.3.0\n",
            "PyYAML==6.0\n",
            "pyzmq==23.2.1\n",
            "qdldl==0.1.5.post2\n",
            "qudida==0.0.4\n",
            "regex==2022.6.2\n",
            "requests==2.23.0\n",
            "requests-oauthlib==1.3.1\n",
            "resampy==0.4.2\n",
            "rpy2==3.4.5\n",
            "rsa==4.9\n",
            "scikit-image==0.18.3\n",
            "scikit-learn==1.0.2\n",
            "scipy==1.7.3\n",
            "screen-resolution-extra==0.0.0\n",
            "scs==3.2.0\n",
            "seaborn==0.11.2\n",
            "Send2Trash==1.8.0\n",
            "setuptools-git==1.2\n",
            "Shapely==1.8.4\n",
            "six==1.15.0\n",
            "sklearn-pandas==1.8.0\n",
            "smart-open==5.2.1\n",
            "snowballstemmer==2.2.0\n",
            "sortedcontainers==2.4.0\n",
            "soundfile==0.11.0\n",
            "spacy==3.4.1\n",
            "spacy-legacy==3.0.10\n",
            "spacy-loggers==1.0.3\n",
            "Sphinx==1.8.6\n",
            "sphinxcontrib-serializinghtml==1.1.5\n",
            "sphinxcontrib-websupport==1.2.4\n",
            "SQLAlchemy==1.4.41\n",
            "sqlparse==0.4.3\n",
            "srsly==2.4.4\n",
            "statsmodels==0.12.2\n",
            "sympy==1.7.1\n",
            "tables==3.7.0\n",
            "tabulate==0.8.10\n",
            "tblib==1.7.0\n",
            "tenacity==8.1.0\n",
            "tensorboard==2.8.0\n",
            "tensorboard-data-server==0.6.1\n",
            "tensorboard-plugin-wit==1.8.1\n",
            "tensorflow==2.8.2+zzzcolab20220929150707\n",
            "tensorflow-datasets==4.6.0\n",
            "tensorflow-estimator==2.8.0\n",
            "tensorflow-gcs-config==2.8.0\n",
            "tensorflow-hub==0.12.0\n",
            "tensorflow-io-gcs-filesystem==0.27.0\n",
            "tensorflow-metadata==1.10.0\n",
            "tensorflow-probability==0.16.0\n",
            "termcolor==2.0.1\n",
            "terminado==0.13.3\n",
            "testpath==0.6.0\n",
            "text-unidecode==1.3\n",
            "textblob==0.15.3\n",
            "thinc==8.1.2\n",
            "threadpoolctl==3.1.0\n",
            "tifffile==2021.11.2\n",
            "toml==0.10.2\n",
            "tomli==2.0.1\n",
            "toolz==0.12.0\n",
            "torch @ https://download.pytorch.org/whl/cu113/torch-1.12.1%2Bcu113-cp37-cp37m-linux_x86_64.whl\n",
            "torchaudio @ https://download.pytorch.org/whl/cu113/torchaudio-0.12.1%2Bcu113-cp37-cp37m-linux_x86_64.whl\n",
            "torchsummary==1.5.1\n",
            "torchtext==0.13.1\n",
            "torchvision @ https://download.pytorch.org/whl/cu113/torchvision-0.13.1%2Bcu113-cp37-cp37m-linux_x86_64.whl\n",
            "tornado==5.1.1\n",
            "tqdm==4.64.1\n",
            "traitlets==5.1.1\n",
            "tweepy==3.10.0\n",
            "typeguard==2.7.1\n",
            "typer==0.4.2\n",
            "typing-extensions==4.1.1\n",
            "tzlocal==1.5.1\n",
            "ujson==5.5.0\n",
            "uritemplate==3.0.1\n",
            "urllib3==1.24.3\n",
            "vega-datasets==0.9.0\n",
            "wasabi==0.10.1\n",
            "wcwidth==0.2.5\n",
            "webargs==8.2.0\n",
            "webencodings==0.5.1\n",
            "Werkzeug==1.0.1\n",
            "widgetsnbextension==3.6.1\n",
            "wordcloud==1.8.2.2\n",
            "wrapt==1.14.1\n",
            "xarray==0.20.2\n",
            "xarray-einstats==0.2.2\n",
            "xgboost==0.90\n",
            "xkit==0.0.0\n",
            "xlrd==1.1.0\n",
            "xlwt==1.3.0\n",
            "yarl==1.8.1\n",
            "yellowbrick==1.5\n",
            "zict==2.2.0\n",
            "zipp==3.8.1\n"
          ]
        }
      ]
    },
    {
      "cell_type": "markdown",
      "source": [
        "#**Instalando o Pandas**"
      ],
      "metadata": {
        "id": "_aR7N8PFh0jM"
      }
    },
    {
      "cell_type": "markdown",
      "source": [
        "#**Aprendendo sobre funções**"
      ],
      "metadata": {
        "id": "GItbiTfpkHwW"
      }
    },
    {
      "cell_type": "code",
      "source": [
        "#Código sem função, repeti\n",
        "\n",
        "calculoMedia = 0\n",
        "\n",
        "N1 = 10\n",
        "N2 = 8\n",
        "\n",
        "calculoMedia = (N1+N2)/2\n",
        "\n",
        "print(\"Média: \"+ str(calculoMedia))\n",
        "if (calculoMedia >= 7):\n",
        "    print(\"Aprovado\")\n",
        "else:\n",
        "    print(\"Reprovado\")\n",
        "\n",
        "\n",
        "N1 = 7\n",
        "N2 = 5\n",
        "\n",
        "calculoMedia = (N1+N2)/2\n",
        "\n",
        "print(\"Média: \"+ str(calculoMedia))\n",
        "if (calculoMedia >= 7):\n",
        "    print(\"Aprovado\")\n",
        "else:\n",
        "    print(\"Reprovado\")\n"
      ],
      "metadata": {
        "id": "Z_v9S_SQh4no",
        "outputId": "53ca9673-e7fd-427a-b19f-d1ffdd60a983",
        "colab": {
          "base_uri": "https://localhost:8080/"
        }
      },
      "execution_count": 8,
      "outputs": [
        {
          "output_type": "stream",
          "name": "stdout",
          "text": [
            "Média: 9.0\n",
            "Aprovado\n",
            "Média: 6.0\n",
            "Reprovado\n"
          ]
        }
      ]
    },
    {
      "cell_type": "code",
      "source": [
        "def CalculoMedia(N1,N2):\n",
        "  #Método responsável pelo cálculo de média\n",
        "\n",
        "    calculoMedia = (N1+N2)/2\n",
        "\n",
        "    print(\"Média: \"+ str(calculoMedia))\n",
        "    if (calculoMedia >= 7):\n",
        "        print(\"Aprovado\")\n",
        "    else:\n",
        "        print(\"Reprovado\")\n",
        "\n",
        "#chamada principal\n",
        "\n",
        "N1 = 10\n",
        "N2 = 8\n",
        "\n",
        "CalculoMedia(N1, N2)\n",
        "\n",
        "N1 = 7\n",
        "N2 = 5\n",
        "\n",
        "CalculoMedia(N1, N2)\n",
        "\n",
        "\n",
        "\n"
      ],
      "metadata": {
        "id": "b5QfoKFnmeR2",
        "outputId": "dcebb9dc-92f0-4dab-dc2c-7a2f33d0e7b9",
        "colab": {
          "base_uri": "https://localhost:8080/"
        }
      },
      "execution_count": 9,
      "outputs": [
        {
          "output_type": "stream",
          "name": "stdout",
          "text": [
            "Média: 9.0\n",
            "Aprovado\n",
            "Média: 6.0\n",
            "Reprovado\n"
          ]
        }
      ]
    },
    {
      "cell_type": "code",
      "source": [
        "!pip install pandas"
      ],
      "metadata": {
        "id": "HeMg0jbzhoe2",
        "outputId": "b2ea2d28-f63f-47f3-c5eb-6155c538cae9",
        "colab": {
          "base_uri": "https://localhost:8080/"
        }
      },
      "execution_count": null,
      "outputs": [
        {
          "output_type": "stream",
          "name": "stdout",
          "text": [
            "Looking in indexes: https://pypi.org/simple, https://us-python.pkg.dev/colab-wheels/public/simple/\n",
            "Requirement already satisfied: pandas in /usr/local/lib/python3.7/dist-packages (1.3.5)\n",
            "Requirement already satisfied: pytz>=2017.3 in /usr/local/lib/python3.7/dist-packages (from pandas) (2022.4)\n",
            "Requirement already satisfied: numpy>=1.17.3 in /usr/local/lib/python3.7/dist-packages (from pandas) (1.21.6)\n",
            "Requirement already satisfied: python-dateutil>=2.7.3 in /usr/local/lib/python3.7/dist-packages (from pandas) (2.8.2)\n",
            "Requirement already satisfied: six>=1.5 in /usr/local/lib/python3.7/dist-packages (from python-dateutil>=2.7.3->pandas) (1.15.0)\n"
          ]
        }
      ]
    },
    {
      "cell_type": "code",
      "source": [],
      "metadata": {
        "id": "eodNMAyymrGM"
      },
      "execution_count": 6,
      "outputs": []
    }
  ]
}