{
  "nbformat": 4,
  "nbformat_minor": 0,
  "metadata": {
    "colab": {
      "provenance": [],
      "collapsed_sections": [],
      "toc_visible": true,
      "include_colab_link": true
    },
    "kernelspec": {
      "name": "python3",
      "display_name": "Python 3"
    },
    "language_info": {
      "name": "python"
    }
  },
  "cells": [
    {
      "cell_type": "markdown",
      "metadata": {
        "id": "view-in-github",
        "colab_type": "text"
      },
      "source": [
        "<a href=\"https://colab.research.google.com/github/mcozono/TERA/blob/turma_python2_20221010/01%20-%20Python/02%20-%20Workshop%20Python%202/Workshop_Python_2.ipynb\" target=\"_parent\"><img src=\"https://colab.research.google.com/assets/colab-badge.svg\" alt=\"Open In Colab\"/></a>"
      ]
    },
    {
      "cell_type": "markdown",
      "source": [
        "#**Seja bem vindo ao Workshop de Python da TERA !**\n",
        "\n",
        "# **É muito bom ter você aqui ! :)**\n",
        "\n",
        "**Abordaremos os seguintes aspectos da programação em Python:**\n",
        "\n",
        "*   O que é o Python\n",
        "*   Ambiente de Desenvolvimento: Google Collab, Pycharm, Anaconda - Jupyter\n",
        "*   Estruturas de Dados Simples como Variáveis Nativas do Interpretador\n",
        "*   Operadores Lógicos como **and** e **or**\n",
        "*   Estruturas Compostas como Listas, Tuplas e Dicionários\n",
        "*   Estruturas Condicionais como **if**, **for**, **while*\n",
        " simples e compostas\n",
        "\n",
        "\n",
        "\n"
      ],
      "metadata": {
        "id": "OCNgspshXctV"
      }
    },
    {
      "cell_type": "code",
      "source": [],
      "metadata": {
        "id": "gBS0xJDepGwL"
      },
      "execution_count": null,
      "outputs": []
    },
    {
      "cell_type": "markdown",
      "source": [
        "# **Ambientes de Desenvolvimento**\n",
        "\n",
        "\n",
        "\n",
        "1.   Google Collab - Free, não precisa instalar e oferece uso de GPU e conecta no Google Drive - [colab.research.google.com](https://colab.research.google.com)\n",
        "2.   Pycharm - Versão Community ou Paga - Necessita de instalação tanto do Python em sua máquina bem como da IDE (Ambiente de Desenvolvimento) em sua máquina - https://www.jetbrains.com/pt-br/pycharm-edu/\n",
        "3.   Visual Studio Code - IDE Free da Microsoft que permite desenvolver com mais de uma linguagem no mesmo ambiente - https://code.visualstudio.com/\n",
        "4.  Anaconda - Suíte de Desenvolvimento Free e gestão de dependências e ambientes. Praticamente um canivete suíço para Análise e Ciência de Dados - https://www.anaconda.com/\n",
        "5.  Jupyter Notebook - Interface de Desenvolvimento Online Free que pode ser utilizado local ou pela internet - https://jupyter.org/\n",
        "\n",
        "\n"
      ],
      "metadata": {
        "id": "gQ8adi23aRBd"
      }
    },
    {
      "cell_type": "markdown",
      "source": [
        "#**Estratégia e Algoritmo:**\n",
        "\n",
        "**O que é um Algoritmo**\n",
        "\n",
        "*   Ações necessárias para atingir um objetivo\n",
        "*   Representação de como resolvemos um determinado problema\n",
        "* Será executado linha a linha pelo compilador ou interpretador\n",
        "* Geralmente os algoritmos dependem de algumas informações para iniciarem a sua execução : entrada\n",
        "* Os algoritmos geralmente geram uma saída após o seu processamento\n",
        "\n",
        "\n",
        "**Vamos planejar nosso desenvolvimento**\n",
        "\n",
        "1.   Leitura do Arquivo csv\n",
        "2.   Separação dos registros e criação da estrutura de dados\n",
        "3.   Cálculo da Média Geral\n",
        "4.   Verificação de Aprovação\n",
        "5.   Impressão do Resultado do Aluno\n",
        "6.   Cálculo do Acumulado pela Turma\n",
        "7.   Impressão da Média Geral\n",
        "\n",
        "\n",
        "\n"
      ],
      "metadata": {
        "id": "8TsK0WCV7gOf"
      }
    },
    {
      "cell_type": "markdown",
      "source": [
        "#**Estruturas de Dados**\n",
        "\n",
        "**Variáveis**\n",
        "\n",
        "Espaço em memória para armazenamento temporário de valores para processamento.\n",
        "\n",
        "Elas podem ser:\n",
        "\n",
        "  * **Primitivas** - Fazem parte do compilador ou interpretador\n",
        "  * **Compostas** - São definidas pelo desenvolvedor\n",
        "\n",
        "**E ainda podem se subdividir em:**\n",
        "  * **Mutáveis** - Permitem ter o seu conteúdo substituído ou alterado\n",
        "  * **Não Mutáveis** - Seu conteúdo não pode ser substituído\n",
        "\n",
        "\n",
        "**Variáveis e o Python**\n",
        "\n",
        "O Python é uma linguagem **FORTEMENTE TIPADA**, e o que é isso ?\n",
        "\n",
        "  Significa que ele valida o tipo do conteúdo e aloca o espaço de memória de acordo com este tipo. Porém ele o identifica de forma automática, sem precisar de uma definição explícita.\n",
        "\n",
        "Porém, uma vez definido, o interpretador não faz a conversão automática, e em caso de execuções com funções que esperam como parâmetro uma string, o interpretador poderá retornar erro para esta execução.\n",
        "\n",
        "\n",
        "**Condicionais para usarmos nas estruturas de decisão e laço**\n",
        "\n",
        "\n",
        "**Igual:** a == b\n",
        "\n",
        "**Diferente:**a != b\n",
        "\n",
        "**Menor que:** a < b\n",
        "\n",
        "**Menor ou igual a:** a <= b\n",
        "\n",
        "**Maior que:** a > b\n",
        "\n",
        "**Maior ou igual que:** a >= b\n",
        "\n"
      ],
      "metadata": {
        "id": "ghlfbxgXcdd0"
      }
    },
    {
      "cell_type": "markdown",
      "source": [
        "#**Decisores e Laços Condicionais:**\n",
        "\n",
        "**IF - Condição SE**\n",
        "```\n",
        "a = 33\n",
        "\n",
        "b = 200\n",
        "\n",
        "if b > a:\n",
        "  print(\"b é maior que a\")\n",
        "```\n",
        "\n",
        "**ELIF - SENÃO SE**\n",
        "```\n",
        "a = 33\n",
        "b = 33\n",
        "\n",
        "if b > a:\n",
        "  print(\"b é maior que  a\")\n",
        "\n",
        "elif a == b:\n",
        "  print(\"a e b são iguais\")\n",
        "\n",
        "```\n",
        "\n",
        "**FOR - Condição PARA**\n",
        "```\n",
        "frutas = [\"maçã\", \"banana\", \"cereja\"]\n",
        "\n",
        "for fruta in frutas:\n",
        "    print(fruta)\n",
        "```\n",
        "\n",
        "**ENQUANTO - Condição PARA**\n",
        "```\n",
        "i = 1\n",
        "while i < 6:\n",
        "  print(i)\n",
        "  i += 1\n",
        "```"
      ],
      "metadata": {
        "id": "1yuQBQgseN_6"
      }
    },
    {
      "cell_type": "markdown",
      "source": [
        "#**Tipos Primitivos e Compostos**"
      ],
      "metadata": {
        "id": "QJFlrSl9R-rO"
      }
    },
    {
      "cell_type": "code",
      "source": [
        "\n",
        "nome = \"Melissa\"\n",
        "idade = 42\n",
        "altura = 1.64\n",
        "peso = 70.5\n",
        "\n",
        "print('Aprendendo sobre tipos primitivos')\n",
        "\n",
        "print(type(nome))\n",
        "\n",
        "#endereco de memoria da variável\n",
        "print(hex(id(nome)))\n",
        "\n",
        "\n",
        "print(type(idade))\n",
        "print(type(altura))\n",
        "print(type(peso))\n",
        "\n",
        "#com erro\n",
        "print('Tipo de variável altura ' + str(type(altura)))\n",
        "\n",
        "#como corrigir\n",
        "print('Tipo da variável altura: ' + str(type(altura)))\n",
        "print('Tipo da variável nome: ' + str(type(nome)))\n",
        "print('Tipo da variável idade: ' + str(type(idade)))\n",
        "print('Tipo da variável altura: ' + str(type(altura))) \n",
        "print('Tipo da variável altura: ' + str(type(peso)))"
      ],
      "metadata": {
        "colab": {
          "base_uri": "https://localhost:8080/"
        },
        "id": "e9pUSDSFsGMt",
        "outputId": "fc79ab7b-ebd0-4d5a-c119-e8ed0fe5f066"
      },
      "execution_count": null,
      "outputs": [
        {
          "output_type": "stream",
          "name": "stdout",
          "text": [
            "Aprendendo sobre tipos primitivos\n",
            "<class 'str'>\n",
            "0x7f27b55f90f0\n",
            "<class 'int'>\n",
            "<class 'float'>\n",
            "<class 'float'>\n",
            "Tipo de variável altura <class 'float'>\n",
            "Tipo da variável altura: <class 'float'>\n",
            "Tipo da variável nome: <class 'str'>\n",
            "Tipo da variável idade: <class 'int'>\n",
            "Tipo da variável altura: <class 'float'>\n",
            "Tipo da variável altura: <class 'float'>\n"
          ]
        }
      ]
    },
    {
      "cell_type": "markdown",
      "source": [
        "#**Tuplas**\n"
      ],
      "metadata": {
        "id": "Ah0p3kLLGbzD"
      }
    },
    {
      "cell_type": "code",
      "source": [
        "tupla = tuple()\n",
        "print(type(tupla))\n",
        "\n",
        "#Criando tupla com ítens\n",
        "tupla_com_valores =(1, 2, 3)\n",
        "\n",
        "#Qual o tamanho da minha Tupla ?\n",
        "print('Tupla Original')\n",
        "print(len(tupla_com_valores))\n",
        "\n",
        "#Tuplas são imutáveis, não é permitido adicionar valores a tupla diretamente, mas temos como resolver :)\n",
        "tupla_com_valores = tupla_com_valores + (4,)\n",
        "\n",
        "#Qual o tamanho da minha Tupla ?\n",
        "print('Adicionei nova posição')\n",
        "print(str(len(tupla_com_valores)) + \"\\n\")\n",
        "\n",
        "\n",
        "\n",
        "#Percorrer a tupla\n",
        "for item in tupla_com_valores:\n",
        "  print(str(item) + \"\\n\")\n",
        "\n",
        "\n",
        "\n",
        "#vamos somar os ítens da tupla ?\n",
        "calculo = 0\n",
        "for item in tupla_com_valores:\n",
        "    calculo += item #incremental\n",
        "  \n",
        "\n",
        "print('Resultado da soma '+ str(calculo))\n",
        "\n",
        "#Pesquisa na Tupla\n",
        "tupla_com_valores.index(2)"
      ],
      "metadata": {
        "colab": {
          "base_uri": "https://localhost:8080/"
        },
        "id": "77tWJjTwEpMv",
        "outputId": "565092ef-87af-422c-eaa3-30052a72c0a4"
      },
      "execution_count": null,
      "outputs": [
        {
          "output_type": "stream",
          "name": "stdout",
          "text": [
            "<class 'tuple'>\n",
            "Tupla Original\n",
            "3\n",
            "Adicionei nova posição\n",
            "4\n",
            "\n",
            "1\n",
            "\n",
            "2\n",
            "\n",
            "3\n",
            "\n",
            "4\n",
            "\n",
            "Resultado da soma 10\n"
          ]
        },
        {
          "output_type": "execute_result",
          "data": {
            "text/plain": [
              "1"
            ]
          },
          "metadata": {},
          "execution_count": 162
        }
      ]
    },
    {
      "cell_type": "markdown",
      "source": [
        "#**Listas**"
      ],
      "metadata": {
        "id": "op2x3sZgSPXb"
      }
    },
    {
      "cell_type": "code",
      "source": [
        "lista = list()\n",
        "\n",
        "print (type(lista))\n",
        "\n",
        "#Criando lista com ítens\n",
        "lista_com_valores = [1, 2, 3]\n",
        "\n",
        "\n",
        "#Qual o tamanho da minha Lista ?\n",
        "print('Tamanho da Lista')\n",
        "print(len(lista_com_valores))\n",
        "\n",
        "\n",
        "#Adicionando um ítem ao fim da lista\n",
        "print('Adicionando um ítem ao fim da lista')\n",
        "lista_com_valores.append(4)\n",
        "print(len(lista_com_valores))\n",
        "\n",
        "#Adicionando um ítem em uma posição na lista\n",
        "print('Adicionando um ítem em uma posição na lista')\n",
        "lista_com_valores.insert(4,1)\n",
        "\n",
        "print('Tamanho da lista após adicionar um ítem')\n",
        "print(len(lista_com_valores))\n",
        "\n",
        "#percorrendo items da lista com valores\n",
        "print('percorrendo items da lista com valores')\n",
        "for item in lista_com_valores:\n",
        "  print(item)\n",
        "\n",
        "#lista apos remocao\n",
        "#print(len(lista_com_valores))\n",
        "\n",
        "#após a remoção como ficoiu a lista\n",
        "print('percorrendo items da lista com valores')\n",
        "for item in lista_com_valores:\n",
        "  print(item)\n",
        "\n",
        "#ordenação reversa\n",
        "lista_com_valores.sort(reverse=True) #pode ser usado como variavel.reverse()\n",
        "print('percorrendo items da lista com valores, após ordenação reversa')\n",
        "for item in lista_com_valores:\n",
        "  print(item)\n",
        "\n",
        "\n",
        "#ordenação crescente\n",
        "lista_com_valores.sort()\n",
        "print('percorrendo items da lista com valores, após ordenação crescente')\n",
        "\n",
        "for item in lista_com_valores:\n",
        "  print(item)\n",
        "\n",
        "\n"
      ],
      "metadata": {
        "colab": {
          "base_uri": "https://localhost:8080/"
        },
        "id": "t_6M5MKNGbik",
        "outputId": "4d5eb801-8cfa-4583-d7ad-e0c767f9434c"
      },
      "execution_count": null,
      "outputs": [
        {
          "output_type": "stream",
          "name": "stdout",
          "text": [
            "<class 'list'>\n",
            "Tamanho da Lista\n",
            "3\n",
            "Adicionando um ítem ao fim da lista\n",
            "4\n",
            "Adicionando um ítem em uma posição na lista\n",
            "Tamanho da lista após adicionar um ítem\n",
            "5\n",
            "percorrendo items da lista com valores\n",
            "1\n",
            "2\n",
            "3\n",
            "4\n",
            "1\n",
            "percorrendo items da lista com valores\n",
            "1\n",
            "2\n",
            "3\n",
            "4\n",
            "1\n",
            "percorrendo items da lista com valores, após ordenação reversa\n",
            "4\n",
            "3\n",
            "2\n",
            "1\n",
            "1\n",
            "percorrendo items da lista com valores, após ordenação crescente\n",
            "1\n",
            "1\n",
            "2\n",
            "3\n",
            "4\n"
          ]
        }
      ]
    },
    {
      "cell_type": "code",
      "source": [
        "\n",
        "#remover ítem da lista informando a sua posição\n",
        "#Criando lista com ítens\n",
        "lista_com_valores = [1, 2, 3]\n",
        "\n",
        "print(\"remover ítem da lista informando a sua posição\")\n",
        "lista_com_valores.pop(0)\n",
        "\n",
        "#ordenação crescente\n",
        "lista_com_valores.sort()\n",
        "print('percorrendo items da lista com valores, após ordenação crescente')\n",
        "\n",
        "for item in lista_com_valores:\n",
        "  print(item)"
      ],
      "metadata": {
        "colab": {
          "base_uri": "https://localhost:8080/"
        },
        "id": "Vd_vx4HqXTJh",
        "outputId": "10c4bbd8-038c-4d5f-e9d8-6f6ba0b47d40"
      },
      "execution_count": null,
      "outputs": [
        {
          "output_type": "stream",
          "name": "stdout",
          "text": [
            "remover ítem da lista informando a sua posição\n"
          ]
        },
        {
          "output_type": "execute_result",
          "data": {
            "text/plain": [
              "1"
            ]
          },
          "metadata": {},
          "execution_count": 170
        }
      ]
    },
    {
      "cell_type": "markdown",
      "source": [
        "#**Dicionários**"
      ],
      "metadata": {
        "id": "C28Pt5GFSSPr"
      }
    },
    {
      "cell_type": "code",
      "source": [
        "dicionario = {\"mae\": \"Melissa\", \n",
        "              \"parente\": \"Marcel\", \n",
        "              \"filha\": \"Rafaela\", \n",
        "              \"filho\": \"Benício\"}\n",
        "              \n",
        "\n",
        "#tipo de estrutura\n",
        "print(\"Imprimindo o tipo de estrutura de dados\")\n",
        "print(type(dicionario))\n",
        "\n",
        "\n",
        "#Atualizando uma chave\n",
        "print(\"Atualizando uma chave\")\n",
        "#Chave Parente antres da Atualização\n",
        "print(dicionario[\"parente\"])\n",
        "\n",
        "#Chave Parente depois da Atualização\n",
        "dicionario[\"parente\"] = \"Alícia\"\n",
        "print(dicionario[\"parente\"]) \n",
        "\n",
        "#Tamanho do dicionário\n",
        "print(\"Tamanho do dicionário\")\n",
        "print(len(dicionario))\n",
        "\n",
        "#Como ficou o dicionário\n",
        "print(\"Como ficou o dicionário\")\n",
        "print(dicionario)\n",
        "\n",
        "#Recuperando as chaves do Dicionário\n",
        "print(\"Recuperando as chaves do Dicionário\")\n",
        "print(dicionario.keys())\n",
        "\n",
        "#Recuperando os valores do dicionário\n",
        "print(\"Recuperando os valores do dicionário\")\n",
        "print(dicionario.values())\n",
        "\n",
        "#Recuperando a estrutura de chave-valor do dicionário\n",
        "print(\"Recuperando a estrutura de chave-valor do dicionário\")\n",
        "print(dicionario.items())\n",
        "\n",
        "#Removendo o ítem\n",
        "print(\"Removendo o ítem\")\n",
        "dicionario.pop(\"parente\")\n",
        "print(dicionario.items())\n",
        "\n",
        "#Criando um dicionário composto\n",
        "print(\"Criando um dicionário composto\")\n",
        "filho1 = {\n",
        "  \"name\" : \"Rafaela\",\n",
        "  \"year\" : 2018\n",
        "}\n",
        "\n",
        "filho2 = {\n",
        "  \"name\" : \"Benicio\",\n",
        "  \"year\" : 2019\n",
        "}\n",
        "\n",
        "minhaFamilia = {\n",
        "  \"child1\" : filho1,\n",
        "  \"child2\" : filho2\n",
        "}\n",
        "\n",
        "#Criando um dicionário composto\n",
        "print(\"Criando um dicionário composto - verificando Itens\")\n",
        "print(minhaFamilia.items())\n",
        "\n",
        "\n",
        "#Percorrendo a estrutura aninhada\n",
        "print(\"Percorrendo a estrutura aninhada\")\n",
        "for x in minhaFamilia.keys():\n",
        "  print(x)\n",
        "  for j in minhaFamilia[x].values():\n",
        "    print(j)\n",
        "\n"
      ],
      "metadata": {
        "colab": {
          "base_uri": "https://localhost:8080/"
        },
        "id": "2rAI7JlVL1X3",
        "outputId": "75611205-6def-4282-ad17-8e9b32a17488"
      },
      "execution_count": null,
      "outputs": [
        {
          "output_type": "stream",
          "name": "stdout",
          "text": [
            "Imprimindo o tipo de estrutura de dados\n",
            "<class 'dict'>\n",
            "Atualizando uma chave\n",
            "Marcel\n",
            "Alícia\n",
            "Tamanho do dicionário\n",
            "4\n",
            "Como ficou o dicionário\n",
            "{'mae': 'Melissa', 'parente': 'Alícia', 'filha': 'Rafaela', 'filho': 'Benício'}\n",
            "Recuperando as chaves do Dicionário\n",
            "dict_keys(['mae', 'parente', 'filha', 'filho'])\n",
            "Recuperando os valores do dicionário\n",
            "dict_values(['Melissa', 'Alícia', 'Rafaela', 'Benício'])\n",
            "Recuperando a estrutura de chave-valor do dicionário\n",
            "dict_items([('mae', 'Melissa'), ('parente', 'Alícia'), ('filha', 'Rafaela'), ('filho', 'Benício')])\n",
            "Removendo o ítem\n",
            "dict_items([('mae', 'Melissa'), ('filha', 'Rafaela'), ('filho', 'Benício')])\n",
            "Criando um dicionário composto\n",
            "Criando um dicionário composto - verificando Itens\n",
            "dict_items([('child1', {'name': 'Rafaela', 'year': 2018}), ('child2', {'name': 'Benicio', 'year': 2019})])\n",
            "Percorrendo a estrutura aninhada\n",
            "child1\n",
            "Rafaela\n",
            "2018\n",
            "child2\n",
            "Benicio\n",
            "2019\n"
          ]
        }
      ]
    },
    {
      "cell_type": "code",
      "source": [
        "from google.colab import drive\n",
        "\n",
        "drive.mount('/content/drive')"
      ],
      "metadata": {
        "id": "jDwTtxBbSk86",
        "outputId": "7bdc4e6c-fce3-40ae-eef4-5f7d82fa8965",
        "colab": {
          "base_uri": "https://localhost:8080/"
        }
      },
      "execution_count": null,
      "outputs": [
        {
          "output_type": "stream",
          "name": "stdout",
          "text": [
            "Drive already mounted at /content/drive; to attempt to forcibly remount, call drive.mount(\"/content/drive\", force_remount=True).\n"
          ]
        }
      ]
    },
    {
      "cell_type": "markdown",
      "source": [
        "#**Estudo de Caso**\n",
        "\n",
        "Temos uma lista de notas da turma de Python 101 compostas dos resultados das avaliações N1, N2, Sub formatada em um arquivo csv.\n",
        "\n",
        "Nossa missão é calcular a Média Final e exibir o resultado da turma por aluno e depois a Méda Global da Turma.\n",
        "\n",
        "---\n",
        "**Segue forma de cálculo da métrica:**\n",
        "\n",
        "**MF** = (((N1 x 0.4) + (N2 x 0.6)) /(N1+N2)).\n",
        "\n",
        "**Caso não tenha atingido a Média com a N1 e N2:**\n",
        "\n",
        "**MF com Sub** = (((N1 x 0.4) + (N2 x 0.6)) + Sub /(N1+N2+Sub))\n",
        "\n",
        "--- \n",
        "\n",
        "A Sub só é aplicada quando o aluno não atinge a média com a N1 e N2.\n",
        "\n",
        "**O Aluno é aprovado em caso de Média Final Maior ou Igual a 7. Menor que 7 o aluno é encaminhado para DP.**\n",
        "\n",
        "\n"
      ],
      "metadata": {
        "id": "1jaK5QEYZZfp"
      }
    },
    {
      "cell_type": "markdown",
      "source": [
        "**Layout do Arquivo**\n",
        "\n",
        "matricula,nome,n1,n2,sub\n",
        "\n",
        "**Dicionário de Dados**\n",
        "\n",
        "Dicionário de Dados é um artefato de arquitetura de dados que documenta a estrutura de uma entrada de dados, criando um \"contrato\" entre utilizadores da estrutura.\n",
        "\n",
        "\n",
        "|Campo |Tipo |Posição\n",
        "|:-----: |:----: |:-------:\n",
        "|matricula|Inteiro|1\n",
        "|nome|Alfanumérico|2\n",
        "|n1|Real|3\n",
        "|n2|Real|4\n",
        "|sub|Real|5\n",
        "\n",
        "---\n",
        "\n",
        "\n"
      ],
      "metadata": {
        "id": "CaI8FUMX7tTs"
      }
    },
    {
      "cell_type": "markdown",
      "source": [
        "#**Live Coding**\n",
        "\n"
      ],
      "metadata": {
        "id": "0_hwyYYhb6tS"
      }
    },
    {
      "cell_type": "code",
      "source": [
        "import csv as csv\n",
        "\n",
        "\n",
        "caminho_arquivo = \"/content/drive/MyDrive/44 - Apresentações/01 - TERA/02  - Python/01 - Workshop 01/notas.csv\" \n",
        "\n",
        "total_alunos = 0\n",
        "nota_total  = 0.0\n",
        "with open(caminho_arquivo) as f:\n",
        "\n",
        "    reader = csv.DictReader(f)\n",
        "    print(\"nr de linhas\")\n",
        "    #print(reader.line_num)\n",
        "    for aluno in reader:\n",
        "        total_alunos += 1\n",
        "\n",
        "        codigo_aluno = aluno[\"codigo_aluno\"]\n",
        "        nome_aluno = aluno[\"nome_aluno\"]\n",
        "        n1 = float(aluno[\"n1\"])\n",
        "        n2 = float(aluno[\"n2\"])\n",
        "        sub = float(aluno[\"sub\"])\n",
        "   \n",
        "        soma_notas_regular = n1+ n2\n",
        "        media_ponderada_regular = (((n1*0.4) + (n2 * 0.6))/\n",
        "                                   soma_notas_regular)*10\n",
        "\n",
        "        print(\"Código \"+ codigo_aluno + \" - Aluno \" + nome_aluno)\n",
        "        \n",
        "        if float(media_ponderada_regular) >= 7:\n",
        "          print(\"Aprovado \\n\")\n",
        "          nota_total += media_ponderada_regular\n",
        "        else:\n",
        "          print(\"Foi para sub\")\n",
        "\n",
        "          soma_notas_sub= soma_notas_regular + sub\n",
        "          media_ponderada_sub = (((n1*0.4) + (n2 * 0.6) + sub)/\n",
        "                                 soma_notas_sub)*10\n",
        "          nota_total += media_ponderada_sub\n",
        "\n",
        "          if float(media_ponderada_sub) >= 7:\n",
        "            print(\"Aprovado com sub\")\n",
        "          else:\n",
        "           print(\"reprovado\")\n",
        "          \n",
        "          print(\"Média com sub: \"+ str(media_ponderada_sub) + \"\\n\")\n",
        "\n",
        "\n",
        "          print(\"resultado final - media global\")\n",
        "\n",
        "          mg = (nota_total / total_alunos)\n",
        "          print(str(mg) + \" - Média Global\")\n"
      ],
      "metadata": {
        "id": "4FN09t72S0Do",
        "outputId": "26eefad6-b680-456b-872d-e520cac05b6d",
        "colab": {
          "base_uri": "https://localhost:8080/"
        }
      },
      "execution_count": null,
      "outputs": [
        {
          "output_type": "stream",
          "name": "stdout",
          "text": [
            "nr de linhas\n",
            "Código 1 - Aluno Rafaela Aimi\n",
            "Foi para sub\n",
            "reprovado\n",
            "Média com sub: 5.542857142857143\n",
            "\n",
            "resultado final - media global\n",
            "5.542857142857143 - Média Global\n",
            "Código 2 - Aluno Benício Akira\n",
            "Foi para sub\n",
            "reprovado\n",
            "Média com sub: 6.9\n",
            "\n",
            "resultado final - media global\n",
            "6.2214285714285715 - Média Global\n",
            "Código 3 - Aluno Marcel Rodrigo\n",
            "Foi para sub\n",
            "reprovado\n",
            "Média com sub: 4.888888888888889\n",
            "\n",
            "resultado final - media global\n",
            "5.777248677248678 - Média Global\n",
            "Código 4 - Aluno Vladimir Junior\n",
            "Foi para sub\n",
            "reprovado\n",
            "Média com sub: 6.315789473684211\n",
            "\n",
            "resultado final - media global\n",
            "5.91188387635756 - Média Global\n",
            "Código 5 - Aluno Marcel Cozono\n",
            "Foi para sub\n",
            "Aprovado com sub\n",
            "Média com sub: 7.222222222222222\n",
            "\n",
            "resultado final - media global\n",
            "6.1739515455304925 - Média Global\n"
          ]
        }
      ]
    },
    {
      "cell_type": "markdown",
      "source": [
        "#**Verificação da Versão do Python**"
      ],
      "metadata": {
        "id": "iS1EtHRzgpnp"
      }
    },
    {
      "cell_type": "code",
      "source": [
        "!python --version"
      ],
      "metadata": {
        "colab": {
          "base_uri": "https://localhost:8080/"
        },
        "id": "Nn2U-nsQdLRc",
        "outputId": "1f963e20-734f-4fd3-b473-aa1873946225"
      },
      "execution_count": null,
      "outputs": [
        {
          "output_type": "stream",
          "name": "stdout",
          "text": [
            "Python 3.7.14\n"
          ]
        }
      ]
    },
    {
      "cell_type": "code",
      "source": [
        "!pip freeze"
      ],
      "metadata": {
        "id": "l6BbRC1jdfCg",
        "outputId": "72175883-da67-432e-e204-c9c2ad3b5112",
        "colab": {
          "base_uri": "https://localhost:8080/"
        }
      },
      "execution_count": null,
      "outputs": [
        {
          "output_type": "stream",
          "name": "stdout",
          "text": [
            "absl-py==1.2.0\n",
            "aeppl==0.0.33\n",
            "aesara==2.7.9\n",
            "aiohttp==3.8.3\n",
            "aiosignal==1.2.0\n",
            "alabaster==0.7.12\n",
            "albumentations==1.2.1\n",
            "altair==4.2.0\n",
            "appdirs==1.4.4\n",
            "arviz==0.12.1\n",
            "astor==0.8.1\n",
            "astropy==4.3.1\n",
            "astunparse==1.6.3\n",
            "async-timeout==4.0.2\n",
            "asynctest==0.13.0\n",
            "atari-py==0.2.9\n",
            "atomicwrites==1.4.1\n",
            "attrs==22.1.0\n",
            "audioread==3.0.0\n",
            "autograd==1.5\n",
            "Babel==2.10.3\n",
            "backcall==0.2.0\n",
            "beautifulsoup4==4.6.3\n",
            "bleach==5.0.1\n",
            "blis==0.7.8\n",
            "bokeh==2.3.3\n",
            "branca==0.5.0\n",
            "bs4==0.0.1\n",
            "CacheControl==0.12.11\n",
            "cached-property==1.5.2\n",
            "cachetools==4.2.4\n",
            "catalogue==2.0.8\n",
            "certifi==2022.9.24\n",
            "cffi==1.15.1\n",
            "cftime==1.6.2\n",
            "chardet==3.0.4\n",
            "charset-normalizer==2.1.1\n",
            "click==7.1.2\n",
            "clikit==0.6.2\n",
            "cloudpickle==1.5.0\n",
            "cmake==3.22.6\n",
            "cmdstanpy==1.0.7\n",
            "colorcet==3.0.1\n",
            "colorlover==0.3.0\n",
            "community==1.0.0b1\n",
            "confection==0.0.2\n",
            "cons==0.4.5\n",
            "contextlib2==0.5.5\n",
            "convertdate==2.4.0\n",
            "crashtest==0.3.1\n",
            "crcmod==1.7\n",
            "cufflinks==0.17.3\n",
            "cvxopt==1.3.0\n",
            "cvxpy==1.2.1\n",
            "cycler==0.11.0\n",
            "cymem==2.0.6\n",
            "Cython==0.29.32\n",
            "daft==0.0.4\n",
            "dask==2022.2.0\n",
            "datascience==0.17.5\n",
            "debugpy==1.0.0\n",
            "decorator==4.4.2\n",
            "defusedxml==0.7.1\n",
            "descartes==1.1.0\n",
            "dill==0.3.5.1\n",
            "distributed==2022.2.0\n",
            "dlib==19.24.0\n",
            "dm-tree==0.1.7\n",
            "docutils==0.17.1\n",
            "dopamine-rl==1.0.5\n",
            "earthengine-api==0.1.326\n",
            "easydict==1.10\n",
            "ecos==2.0.10\n",
            "editdistance==0.5.3\n",
            "en-core-web-sm @ https://github.com/explosion/spacy-models/releases/download/en_core_web_sm-3.4.0/en_core_web_sm-3.4.0-py3-none-any.whl\n",
            "entrypoints==0.4\n",
            "ephem==4.1.3\n",
            "et-xmlfile==1.1.0\n",
            "etils==0.8.0\n",
            "etuples==0.3.8\n",
            "fa2==0.3.5\n",
            "fastai==2.7.9\n",
            "fastcore==1.5.27\n",
            "fastdownload==0.0.7\n",
            "fastdtw==0.3.4\n",
            "fastjsonschema==2.16.2\n",
            "fastprogress==1.0.3\n",
            "fastrlock==0.8\n",
            "feather-format==0.4.1\n",
            "filelock==3.8.0\n",
            "firebase-admin==4.4.0\n",
            "fix-yahoo-finance==0.0.22\n",
            "Flask==1.1.4\n",
            "flatbuffers==22.9.24\n",
            "folium==0.12.1.post1\n",
            "frozenlist==1.3.1\n",
            "fsspec==2022.8.2\n",
            "future==0.16.0\n",
            "gast==0.5.3\n",
            "GDAL==2.2.2\n",
            "gdown==4.4.0\n",
            "gensim==3.6.0\n",
            "geographiclib==1.52\n",
            "geopy==1.17.0\n",
            "gin-config==0.5.0\n",
            "glob2==0.7\n",
            "google==2.0.3\n",
            "google-api-core==1.31.6\n",
            "google-api-python-client==1.12.11\n",
            "google-auth==1.35.0\n",
            "google-auth-httplib2==0.0.4\n",
            "google-auth-oauthlib==0.4.6\n",
            "google-cloud-bigquery==1.21.0\n",
            "google-cloud-bigquery-storage==1.1.2\n",
            "google-cloud-core==1.0.3\n",
            "google-cloud-datastore==1.8.0\n",
            "google-cloud-firestore==1.7.0\n",
            "google-cloud-language==1.2.0\n",
            "google-cloud-storage==1.18.1\n",
            "google-cloud-translate==1.5.0\n",
            "google-colab @ file:///colabtools/dist/google-colab-1.0.0.tar.gz\n",
            "google-pasta==0.2.0\n",
            "google-resumable-media==0.4.1\n",
            "googleapis-common-protos==1.56.4\n",
            "googledrivedownloader==0.4\n",
            "graphviz==0.10.1\n",
            "greenlet==1.1.3\n",
            "grpcio==1.49.1\n",
            "gspread==3.4.2\n",
            "gspread-dataframe==3.0.8\n",
            "gym==0.25.2\n",
            "gym-notices==0.0.8\n",
            "h5py==3.1.0\n",
            "HeapDict==1.0.1\n",
            "hijri-converter==2.2.4\n",
            "holidays==0.16\n",
            "holoviews==1.14.9\n",
            "html5lib==1.0.1\n",
            "httpimport==0.5.18\n",
            "httplib2==0.17.4\n",
            "httplib2shim==0.0.3\n",
            "httpstan==4.6.1\n",
            "humanize==0.5.1\n",
            "hyperopt==0.1.2\n",
            "idna==2.10\n",
            "imageio==2.9.0\n",
            "imagesize==1.4.1\n",
            "imbalanced-learn==0.8.1\n",
            "imblearn==0.0\n",
            "imgaug==0.4.0\n",
            "importlib-metadata==5.0.0\n",
            "importlib-resources==5.9.0\n",
            "imutils==0.5.4\n",
            "inflect==2.1.0\n",
            "intel-openmp==2022.2.0\n",
            "intervaltree==2.1.0\n",
            "ipykernel==5.3.4\n",
            "ipython==7.9.0\n",
            "ipython-genutils==0.2.0\n",
            "ipython-sql==0.3.9\n",
            "ipywidgets==7.7.1\n",
            "itsdangerous==1.1.0\n",
            "jax==0.3.21\n",
            "jaxlib @ https://storage.googleapis.com/jax-releases/cuda11/jaxlib-0.3.20+cuda11.cudnn805-cp37-cp37m-manylinux2014_x86_64.whl\n",
            "jieba==0.42.1\n",
            "Jinja2==2.11.3\n",
            "joblib==1.2.0\n",
            "jpeg4py==0.1.4\n",
            "jsonschema==4.3.3\n",
            "jupyter-client==6.1.12\n",
            "jupyter-console==6.1.0\n",
            "jupyter-core==4.11.1\n",
            "jupyterlab-widgets==3.0.3\n",
            "kaggle==1.5.12\n",
            "kapre==0.3.7\n",
            "keras==2.8.0\n",
            "Keras-Preprocessing==1.1.2\n",
            "keras-vis==0.4.1\n",
            "kiwisolver==1.4.4\n",
            "korean-lunar-calendar==0.3.1\n",
            "langcodes==3.3.0\n",
            "libclang==14.0.6\n",
            "librosa==0.8.1\n",
            "lightgbm==2.2.3\n",
            "llvmlite==0.39.1\n",
            "lmdb==0.99\n",
            "locket==1.0.0\n",
            "logical-unification==0.4.5\n",
            "LunarCalendar==0.0.9\n",
            "lxml==4.9.1\n",
            "Markdown==3.4.1\n",
            "MarkupSafe==2.0.1\n",
            "marshmallow==3.18.0\n",
            "matplotlib==3.2.2\n",
            "matplotlib-venn==0.11.7\n",
            "miniKanren==1.0.3\n",
            "missingno==0.5.1\n",
            "mistune==0.8.4\n",
            "mizani==0.7.3\n",
            "mkl==2019.0\n",
            "mlxtend==0.14.0\n",
            "more-itertools==8.14.0\n",
            "moviepy==0.2.3.5\n",
            "mpmath==1.2.1\n",
            "msgpack==1.0.4\n",
            "multidict==6.0.2\n",
            "multipledispatch==0.6.0\n",
            "multitasking==0.0.11\n",
            "murmurhash==1.0.8\n",
            "music21==5.5.0\n",
            "natsort==5.5.0\n",
            "nbconvert==5.6.1\n",
            "nbformat==5.6.1\n",
            "netCDF4==1.6.1\n",
            "networkx==2.6.3\n",
            "nibabel==3.0.2\n",
            "nltk==3.7\n",
            "notebook==5.3.1\n",
            "numba==0.56.2\n",
            "numexpr==2.8.3\n",
            "numpy==1.21.6\n",
            "oauth2client==4.1.3\n",
            "oauthlib==3.2.1\n",
            "okgrade==0.4.3\n",
            "opencv-contrib-python==4.6.0.66\n",
            "opencv-python==4.6.0.66\n",
            "opencv-python-headless==4.6.0.66\n",
            "openpyxl==3.0.10\n",
            "opt-einsum==3.3.0\n",
            "osqp==0.6.2.post0\n",
            "packaging==21.3\n",
            "palettable==3.3.0\n",
            "pandas==1.3.5\n",
            "pandas-datareader==0.9.0\n",
            "pandas-gbq==0.13.3\n",
            "pandas-profiling==1.4.1\n",
            "pandocfilters==1.5.0\n",
            "panel==0.12.1\n",
            "param==1.12.2\n",
            "parso==0.8.3\n",
            "partd==1.3.0\n",
            "pastel==0.2.1\n",
            "pathlib==1.0.1\n",
            "pathy==0.6.2\n",
            "patsy==0.5.2\n",
            "pep517==0.13.0\n",
            "pexpect==4.8.0\n",
            "pickleshare==0.7.5\n",
            "Pillow==7.1.2\n",
            "pip-tools==6.2.0\n",
            "plotly==5.5.0\n",
            "plotnine==0.8.0\n",
            "pluggy==0.7.1\n",
            "pooch==1.6.0\n",
            "portpicker==1.3.9\n",
            "prefetch-generator==1.0.1\n",
            "preshed==3.0.7\n",
            "prettytable==3.4.1\n",
            "progressbar2==3.38.0\n",
            "promise==2.3\n",
            "prompt-toolkit==2.0.10\n",
            "prophet==1.1.1\n",
            "protobuf==3.17.3\n",
            "psutil==5.4.8\n",
            "psycopg2==2.9.3\n",
            "ptyprocess==0.7.0\n",
            "py==1.11.0\n",
            "pyarrow==6.0.1\n",
            "pyasn1==0.4.8\n",
            "pyasn1-modules==0.2.8\n",
            "pycocotools==2.0.5\n",
            "pycparser==2.21\n",
            "pyct==0.4.8\n",
            "pydantic==1.9.2\n",
            "pydata-google-auth==1.4.0\n",
            "pydot==1.3.0\n",
            "pydot-ng==2.0.0\n",
            "pydotplus==2.0.2\n",
            "PyDrive==1.3.1\n",
            "pyemd==0.5.1\n",
            "pyerfa==2.0.0.1\n",
            "Pygments==2.6.1\n",
            "pygobject==3.26.1\n",
            "pylev==1.4.0\n",
            "pymc==4.1.4\n",
            "PyMeeus==0.5.11\n",
            "pymongo==4.2.0\n",
            "pymystem3==0.2.0\n",
            "PyOpenGL==3.1.6\n",
            "pyparsing==3.0.9\n",
            "pyrsistent==0.18.1\n",
            "pysimdjson==3.2.0\n",
            "pysndfile==1.3.8\n",
            "PySocks==1.7.1\n",
            "pystan==3.3.0\n",
            "pytest==3.6.4\n",
            "python-apt==0.0.0\n",
            "python-chess==0.23.11\n",
            "python-dateutil==2.8.2\n",
            "python-louvain==0.16\n",
            "python-slugify==6.1.2\n",
            "python-utils==3.3.3\n",
            "pytz==2022.4\n",
            "pyviz-comms==2.2.1\n",
            "PyWavelets==1.3.0\n",
            "PyYAML==6.0\n",
            "pyzmq==23.2.1\n",
            "qdldl==0.1.5.post2\n",
            "qudida==0.0.4\n",
            "regex==2022.6.2\n",
            "requests==2.23.0\n",
            "requests-oauthlib==1.3.1\n",
            "resampy==0.4.2\n",
            "rpy2==3.4.5\n",
            "rsa==4.9\n",
            "scikit-image==0.18.3\n",
            "scikit-learn==1.0.2\n",
            "scipy==1.7.3\n",
            "screen-resolution-extra==0.0.0\n",
            "scs==3.2.0\n",
            "seaborn==0.11.2\n",
            "Send2Trash==1.8.0\n",
            "setuptools-git==1.2\n",
            "Shapely==1.8.4\n",
            "six==1.15.0\n",
            "sklearn-pandas==1.8.0\n",
            "smart-open==5.2.1\n",
            "snowballstemmer==2.2.0\n",
            "sortedcontainers==2.4.0\n",
            "soundfile==0.11.0\n",
            "spacy==3.4.1\n",
            "spacy-legacy==3.0.10\n",
            "spacy-loggers==1.0.3\n",
            "Sphinx==1.8.6\n",
            "sphinxcontrib-serializinghtml==1.1.5\n",
            "sphinxcontrib-websupport==1.2.4\n",
            "SQLAlchemy==1.4.41\n",
            "sqlparse==0.4.3\n",
            "srsly==2.4.4\n",
            "statsmodels==0.12.2\n",
            "sympy==1.7.1\n",
            "tables==3.7.0\n",
            "tabulate==0.8.10\n",
            "tblib==1.7.0\n",
            "tenacity==8.1.0\n",
            "tensorboard==2.8.0\n",
            "tensorboard-data-server==0.6.1\n",
            "tensorboard-plugin-wit==1.8.1\n",
            "tensorflow==2.8.2+zzzcolab20220929150707\n",
            "tensorflow-datasets==4.6.0\n",
            "tensorflow-estimator==2.8.0\n",
            "tensorflow-gcs-config==2.8.0\n",
            "tensorflow-hub==0.12.0\n",
            "tensorflow-io-gcs-filesystem==0.27.0\n",
            "tensorflow-metadata==1.10.0\n",
            "tensorflow-probability==0.16.0\n",
            "termcolor==2.0.1\n",
            "terminado==0.13.3\n",
            "testpath==0.6.0\n",
            "text-unidecode==1.3\n",
            "textblob==0.15.3\n",
            "thinc==8.1.2\n",
            "threadpoolctl==3.1.0\n",
            "tifffile==2021.11.2\n",
            "toml==0.10.2\n",
            "tomli==2.0.1\n",
            "toolz==0.12.0\n",
            "torch @ https://download.pytorch.org/whl/cu113/torch-1.12.1%2Bcu113-cp37-cp37m-linux_x86_64.whl\n",
            "torchaudio @ https://download.pytorch.org/whl/cu113/torchaudio-0.12.1%2Bcu113-cp37-cp37m-linux_x86_64.whl\n",
            "torchsummary==1.5.1\n",
            "torchtext==0.13.1\n",
            "torchvision @ https://download.pytorch.org/whl/cu113/torchvision-0.13.1%2Bcu113-cp37-cp37m-linux_x86_64.whl\n",
            "tornado==5.1.1\n",
            "tqdm==4.64.1\n",
            "traitlets==5.1.1\n",
            "tweepy==3.10.0\n",
            "typeguard==2.7.1\n",
            "typer==0.4.2\n",
            "typing-extensions==4.1.1\n",
            "tzlocal==1.5.1\n",
            "ujson==5.5.0\n",
            "uritemplate==3.0.1\n",
            "urllib3==1.24.3\n",
            "vega-datasets==0.9.0\n",
            "wasabi==0.10.1\n",
            "wcwidth==0.2.5\n",
            "webargs==8.2.0\n",
            "webencodings==0.5.1\n",
            "Werkzeug==1.0.1\n",
            "widgetsnbextension==3.6.1\n",
            "wordcloud==1.8.2.2\n",
            "wrapt==1.14.1\n",
            "xarray==0.20.2\n",
            "xarray-einstats==0.2.2\n",
            "xgboost==0.90\n",
            "xkit==0.0.0\n",
            "xlrd==1.1.0\n",
            "xlwt==1.3.0\n",
            "yarl==1.8.1\n",
            "yellowbrick==1.5\n",
            "zict==2.2.0\n",
            "zipp==3.8.1\n"
          ]
        }
      ]
    },
    {
      "cell_type": "markdown",
      "source": [
        "#**Instalando o Pandas**"
      ],
      "metadata": {
        "id": "_aR7N8PFh0jM"
      }
    },
    {
      "cell_type": "markdown",
      "source": [
        "#**Aprendendo sobre funções**"
      ],
      "metadata": {
        "id": "GItbiTfpkHwW"
      }
    },
    {
      "cell_type": "code",
      "source": [
        "#Código sem função, repeti\n",
        "\n",
        "calculoMedia = 0\n",
        "\n",
        "N1 = 10\n",
        "N2 = 8\n",
        "\n",
        "calculoMedia = (N1+N2)/2\n",
        "\n",
        "print(\"Média: \"+ str(calculoMedia))\n",
        "if (calculoMedia >= 7):\n",
        "    print(\"Aprovado\")\n",
        "else:\n",
        "    print(\"Reprovado\")\n",
        "\n",
        "\n",
        "N1 = 7\n",
        "N2 = 5\n",
        "\n",
        "calculoMedia = (N1+N2)/2\n",
        "\n",
        "print(\"Média: \"+ str(calculoMedia))\n",
        "if (calculoMedia >= 7):\n",
        "    print(\"Aprovado\")\n",
        "else:\n",
        "    print(\"Reprovado\")\n"
      ],
      "metadata": {
        "id": "Z_v9S_SQh4no",
        "colab": {
          "base_uri": "https://localhost:8080/"
        },
        "outputId": "53ca9673-e7fd-427a-b19f-d1ffdd60a983"
      },
      "execution_count": 8,
      "outputs": [
        {
          "output_type": "stream",
          "name": "stdout",
          "text": [
            "Média: 9.0\n",
            "Aprovado\n",
            "Média: 6.0\n",
            "Reprovado\n"
          ]
        }
      ]
    },
    {
      "cell_type": "code",
      "source": [
        "def CalculoMedia(N1,N2):\n",
        "  #Método responsável pelo cálculo de média\n",
        "\n",
        "    calculoMedia = (N1+N2)/2\n",
        "\n",
        "    print(\"Média: \"+ str(calculoMedia))\n",
        "    if (calculoMedia >= 7):\n",
        "        print(\"Aprovado\")\n",
        "    else:\n",
        "        print(\"Reprovado\")\n",
        "\n",
        "#chamada principal\n",
        "\n",
        "N1 = 10\n",
        "N2 = 8\n",
        "\n",
        "CalculoMedia(N1, N2)\n",
        "\n",
        "N1 = 7\n",
        "N2 = 5\n",
        "\n",
        "CalculoMedia(N1, N2)\n",
        "\n",
        "\n",
        "\n"
      ],
      "metadata": {
        "colab": {
          "base_uri": "https://localhost:8080/"
        },
        "id": "b5QfoKFnmeR2",
        "outputId": "dcebb9dc-92f0-4dab-dc2c-7a2f33d0e7b9"
      },
      "execution_count": 9,
      "outputs": [
        {
          "output_type": "stream",
          "name": "stdout",
          "text": [
            "Média: 9.0\n",
            "Aprovado\n",
            "Média: 6.0\n",
            "Reprovado\n"
          ]
        }
      ]
    },
    {
      "cell_type": "markdown",
      "source": [
        "#**Iteração**"
      ],
      "metadata": {
        "id": "bUJ1rb-ipdiZ"
      }
    },
    {
      "cell_type": "code",
      "source": [
        "from google.colab import drive\n",
        "drive.mount('/content/drive')"
      ],
      "metadata": {
        "id": "bp-0ZDQIoLda",
        "outputId": "2c17e125-0fbe-4ce0-ede3-8eaacc375d38",
        "colab": {
          "base_uri": "https://localhost:8080/"
        }
      },
      "execution_count": 11,
      "outputs": [
        {
          "output_type": "stream",
          "name": "stdout",
          "text": [
            "Mounted at /content/drive\n"
          ]
        }
      ]
    },
    {
      "cell_type": "code",
      "source": [
        "import csv as csv\n",
        "\n",
        "\n",
        "caminho_arquivo = \"/content/drive/MyDrive/44 - Apresentações/01 - TERA/02  - Python/01 - Workshop 01/notas.csv\" \n",
        "\n",
        "total_alunos = 0\n",
        "nota_total  = 0.0\n",
        "with open(caminho_arquivo) as f:\n",
        "\n",
        "    reader = csv.DictReader(f)\n",
        "    print(\"nr de linhas \\n\")\n",
        "    #print(reader.line_num)\n",
        "    print(\"Inicio da iteração por aluno \\n\")\n",
        "    for aluno in reader:\n",
        "\n",
        "        total_alunos += 1\n",
        "\n",
        "        print(\"Iteração \" + str(total_alunos))\n",
        "\n",
        "\n",
        "        codigo_aluno = aluno[\"codigo_aluno\"]\n",
        "        nome_aluno = aluno[\"nome_aluno\"]\n",
        "        n1 = float(aluno[\"n1\"])\n",
        "        n2 = float(aluno[\"n2\"])\n",
        "        sub = float(aluno[\"sub\"])\n",
        "   \n",
        "        soma_notas_regular = n1+ n2\n",
        "        media_ponderada_regular = (((n1*0.4) + (n2 * 0.6))/\n",
        "                                   soma_notas_regular)*10\n",
        "\n",
        "        print(\"Código \"+ codigo_aluno + \" - Aluno \" + nome_aluno)\n",
        "        \n",
        "        if float(media_ponderada_regular) >= 7:\n",
        "          print(\"Aprovado \\n\")\n",
        "          nota_total += media_ponderada_regular\n",
        "        else:\n",
        "          print(\"Foi para sub\")\n",
        "\n",
        "          soma_notas_sub= soma_notas_regular + sub\n",
        "          media_ponderada_sub = (((n1*0.4) + (n2 * 0.6) + sub)/\n",
        "                                 soma_notas_sub)*10\n",
        "          nota_total += media_ponderada_sub\n",
        "\n",
        "          if float(media_ponderada_sub) >= 7:\n",
        "            print(\"Aprovado com sub \\n\")\n",
        "          else:\n",
        "           print(\"reprovado \\n\")\n",
        "          \n",
        "          print(\"Média com sub: \"+ str(media_ponderada_sub))\n",
        "          print(\"Fim  da iteração por aluno \\n\")\n",
        "\n",
        "    print(\"resultado final - media global \\n\")\n",
        "\n",
        "    mg = (nota_total / total_alunos)\n",
        "    print(str(mg) + \" - Média Global\")\n"
      ],
      "metadata": {
        "outputId": "9567a4ee-ecf4-48a7-d014-e4f7201bcc9a",
        "colab": {
          "base_uri": "https://localhost:8080/"
        },
        "id": "iaxIJ-qmoG3h"
      },
      "execution_count": 16,
      "outputs": [
        {
          "output_type": "stream",
          "name": "stdout",
          "text": [
            "nr de linhas \n",
            "\n",
            "Inicio da iteração por aluno \n",
            "\n",
            "Iteração 1\n",
            "Código 1 - Aluno Rafaela Aimi\n",
            "Foi para sub\n",
            "reprovado \n",
            "\n",
            "Média com sub: 5.542857142857143\n",
            "Fim  da iteração por aluno \n",
            "\n",
            "Iteração 2\n",
            "Código 2 - Aluno Benício Akira\n",
            "Foi para sub\n",
            "reprovado \n",
            "\n",
            "Média com sub: 6.9\n",
            "Fim  da iteração por aluno \n",
            "\n",
            "Iteração 3\n",
            "Código 3 - Aluno Marcel Rodrigo\n",
            "Foi para sub\n",
            "reprovado \n",
            "\n",
            "Média com sub: 4.888888888888889\n",
            "Fim  da iteração por aluno \n",
            "\n",
            "Iteração 4\n",
            "Código 4 - Aluno Vladimir Junior\n",
            "Foi para sub\n",
            "reprovado \n",
            "\n",
            "Média com sub: 6.315789473684211\n",
            "Fim  da iteração por aluno \n",
            "\n",
            "Iteração 5\n",
            "Código 5 - Aluno Marcel Cozono\n",
            "Foi para sub\n",
            "Aprovado com sub \n",
            "\n",
            "Média com sub: 7.222222222222222\n",
            "Fim  da iteração por aluno \n",
            "\n",
            "resultado final - media global \n",
            "\n",
            "6.1739515455304925 - Média Global\n"
          ]
        }
      ]
    },
    {
      "cell_type": "markdown",
      "source": [
        "#**Verificação das Bibliotecas Instaladas**"
      ],
      "metadata": {
        "id": "moQFJvsFhST_"
      }
    },
    {
      "cell_type": "markdown",
      "source": [
        "#**Instalando o Pandas**"
      ],
      "metadata": {
        "id": "QGxWM1CApj5s"
      }
    },
    {
      "cell_type": "code",
      "source": [
        "!pip install pandas"
      ],
      "metadata": {
        "id": "HeMg0jbzhoe2",
        "outputId": "b2ea2d28-f63f-47f3-c5eb-6155c538cae9",
        "colab": {
          "base_uri": "https://localhost:8080/"
        }
      },
      "execution_count": null,
      "outputs": [
        {
          "output_type": "stream",
          "name": "stdout",
          "text": [
            "Looking in indexes: https://pypi.org/simple, https://us-python.pkg.dev/colab-wheels/public/simple/\n",
            "Requirement already satisfied: pandas in /usr/local/lib/python3.7/dist-packages (1.3.5)\n",
            "Requirement already satisfied: pytz>=2017.3 in /usr/local/lib/python3.7/dist-packages (from pandas) (2022.4)\n",
            "Requirement already satisfied: numpy>=1.17.3 in /usr/local/lib/python3.7/dist-packages (from pandas) (1.21.6)\n",
            "Requirement already satisfied: python-dateutil>=2.7.3 in /usr/local/lib/python3.7/dist-packages (from pandas) (2.8.2)\n",
            "Requirement already satisfied: six>=1.5 in /usr/local/lib/python3.7/dist-packages (from python-dateutil>=2.7.3->pandas) (1.15.0)\n"
          ]
        }
      ]
    },
    {
      "cell_type": "markdown",
      "source": [
        "#**Comprehension -- Lista**"
      ],
      "metadata": {
        "id": "n4RYul1uruf1"
      }
    },
    {
      "cell_type": "code",
      "source": [
        "# Iniciando a listagem - abordagem padrão\n",
        "list = []\n",
        "  \n",
        "for i in range(11):\n",
        "    #verifica se o índice é par\n",
        "    if i % 2 == 0:\n",
        "        list.append(i)\n",
        "  \n",
        "# print elements\n",
        "print(list)"
      ],
      "metadata": {
        "id": "wpxHORBUrwbo",
        "outputId": "c89d984a-3641-4001-9a5e-332fe6406171",
        "colab": {
          "base_uri": "https://localhost:8080/"
        }
      },
      "execution_count": 19,
      "outputs": [
        {
          "output_type": "stream",
          "name": "stdout",
          "text": [
            "[0, 2, 4, 6, 8, 10]\n"
          ]
        }
      ]
    },
    {
      "cell_type": "code",
      "source": [
        "#Com a sintaxe de Comprehension\n",
        "\n",
        "list = [i for i in range(11) if i % 2 == 0]\n",
        "print(list)"
      ],
      "metadata": {
        "id": "7PXUiiGfr7IT",
        "outputId": "fd9dac02-b84f-4553-e602-54448ade8fef",
        "colab": {
          "base_uri": "https://localhost:8080/"
        }
      },
      "execution_count": 20,
      "outputs": [
        {
          "output_type": "stream",
          "name": "stdout",
          "text": [
            "[0, 2, 4, 6, 8, 10]\n"
          ]
        }
      ]
    },
    {
      "cell_type": "code",
      "source": [
        "input_list = [1, 2, 3, 4, 5, 6, 7]\n",
        "  \n",
        "output_dict = {}\n",
        "  \n",
        "# Usandop loop paa construir o dicionário\n",
        "for var in input_list:\n",
        "    if var % 2 != 0:\n",
        "        output_dict[var] = var**3\n",
        "  \n",
        "print(\"Dicionário de Saída com loop:\",\n",
        "                             output_dict )"
      ],
      "metadata": {
        "id": "vGVOpdShsJXn",
        "outputId": "86e929e7-1d5c-4aed-ee68-ade9de31cb35",
        "colab": {
          "base_uri": "https://localhost:8080/"
        }
      },
      "execution_count": 21,
      "outputs": [
        {
          "output_type": "stream",
          "name": "stdout",
          "text": [
            "Dicionário de Saída com loop: {1: 1, 3: 27, 5: 125, 7: 343}\n"
          ]
        }
      ]
    },
    {
      "cell_type": "markdown",
      "source": [
        "#**Sintaxe**\n",
        "---\n",
        "`dicionario_saida = {chave:valor for (chave, valor) in lista if (chave, valor satisfazendo a condição)}`\n",
        "---"
      ],
      "metadata": {
        "id": "M0KzTCn_tXQ8"
      }
    },
    {
      "cell_type": "code",
      "source": [
        "#Usando Comprehension\n",
        "#para construir o dicionário de saída\n",
        "  \n",
        "input_list = [1,2,3,4,5,6,7]\n",
        "  \n",
        "dict_using_comp = {var:var ** 3 for var in input_list if var % 2 != 0}\n",
        "  \n",
        "print(\"Dicionário de Saída com Comprehension:\",\n",
        "                                         dict_using_comp)"
      ],
      "metadata": {
        "id": "vct0gNcstJoH",
        "outputId": "c640e77b-dc56-4454-89c8-c0618a2724c9",
        "colab": {
          "base_uri": "https://localhost:8080/"
        }
      },
      "execution_count": 22,
      "outputs": [
        {
          "output_type": "stream",
          "name": "stdout",
          "text": [
            "Dicionário de Saída com Comprenhension: {1: 1, 3: 27, 5: 125, 7: 343}\n"
          ]
        }
      ]
    },
    {
      "cell_type": "markdown",
      "source": [
        "#**Expressão Lambda**\n",
        "\n",
        "---\n",
        "\n",
        "\n",
        "```\n",
        "lambda parametros : expressao\n",
        "```\n",
        "\n"
      ],
      "metadata": {
        "id": "bx0JN9HtvDG-"
      }
    },
    {
      "cell_type": "code",
      "source": [
        "#Calculando a multiplicacao de A e B\n",
        "\n",
        "x = lambda a, b : a * b\n",
        "print(x(5, 6))"
      ],
      "metadata": {
        "id": "2VYZi2LovHcL",
        "outputId": "197e8feb-a85b-42e3-b01e-d5f8b4c0d979",
        "colab": {
          "base_uri": "https://localhost:8080/"
        }
      },
      "execution_count": 32,
      "outputs": [
        {
          "output_type": "stream",
          "name": "stdout",
          "text": [
            "30\n"
          ]
        }
      ]
    },
    {
      "cell_type": "code",
      "source": [
        "\n",
        "import pandas as pd\n",
        "\n",
        "#carregando um csv\n",
        "df = pd.read_csv('/content/drive/MyDrive/44 - Apresentações/01 - TERA/02  - Python/02 - Workshop 02/NetflixOriginals.csv', \n",
        "                 sep = ',', encoding = \"ISO-8859-1\",na_values=['--','n/a', 'nada']) \n",
        "\n",
        "#primeiras linhas do dataframe\n",
        "df.head(10)\n",
        "\n",
        "#ultimas linhas do dataframe\n",
        "df.tail(5)\n",
        "\n",
        "#verifica a quantidade de registros por coluna\n",
        "df.count()\n",
        "\n",
        "#formato da matriz  / dataframe\n",
        "df.shape #linha/coluna\n",
        "\n",
        "#informacoes dos tipos de dados do Dataframe\n",
        "df.info()\n",
        "\n",
        "print(\"Colunas \\n\")\n",
        "df.columns\n",
        "\n",
        "df.columns=['Título', 'Genero', 'Estreia', 'Tempo_de_Filme', 'Score IMDB', 'Língua']\n",
        "\n",
        "print(\"Novas Colunas \\n\")\n",
        "df.columns\n",
        "\n",
        "\n",
        "print(\"Amostragem estatística \\n\")\n",
        "df.describe()\n",
        "\n"
      ],
      "metadata": {
        "id": "I5kzOfEyuAHm",
        "outputId": "ca9caf63-4b58-4945-911c-e2d3f01ba565",
        "colab": {
          "base_uri": "https://localhost:8080/",
          "height": 630
        }
      },
      "execution_count": 79,
      "outputs": [
        {
          "output_type": "stream",
          "name": "stdout",
          "text": [
            "<class 'pandas.core.frame.DataFrame'>\n",
            "RangeIndex: 584 entries, 0 to 583\n",
            "Data columns (total 6 columns):\n",
            " #   Column      Non-Null Count  Dtype  \n",
            "---  ------      --------------  -----  \n",
            " 0   Title       584 non-null    object \n",
            " 1   Genre       584 non-null    object \n",
            " 2   Premiere    584 non-null    object \n",
            " 3   Runtime     584 non-null    int64  \n",
            " 4   IMDB Score  584 non-null    float64\n",
            " 5   Language    584 non-null    object \n",
            "dtypes: float64(1), int64(1), object(4)\n",
            "memory usage: 27.5+ KB\n",
            "Colunas \n",
            "\n",
            "Novas Colunas \n",
            "\n",
            "Amostragem estatística \n",
            "\n"
          ]
        },
        {
          "output_type": "execute_result",
          "data": {
            "text/plain": [
              "       Tempo_de_Filme  Score IMDB\n",
              "count      584.000000  584.000000\n",
              "mean        93.577055    6.271747\n",
              "std         27.761683    0.979256\n",
              "min          4.000000    2.500000\n",
              "25%         86.000000    5.700000\n",
              "50%         97.000000    6.350000\n",
              "75%        108.000000    7.000000\n",
              "max        209.000000    9.000000"
            ],
            "text/html": [
              "\n",
              "  <div id=\"df-d57ff63e-f5a0-4109-ad4b-b41f253af793\">\n",
              "    <div class=\"colab-df-container\">\n",
              "      <div>\n",
              "<style scoped>\n",
              "    .dataframe tbody tr th:only-of-type {\n",
              "        vertical-align: middle;\n",
              "    }\n",
              "\n",
              "    .dataframe tbody tr th {\n",
              "        vertical-align: top;\n",
              "    }\n",
              "\n",
              "    .dataframe thead th {\n",
              "        text-align: right;\n",
              "    }\n",
              "</style>\n",
              "<table border=\"1\" class=\"dataframe\">\n",
              "  <thead>\n",
              "    <tr style=\"text-align: right;\">\n",
              "      <th></th>\n",
              "      <th>Tempo_de_Filme</th>\n",
              "      <th>Score IMDB</th>\n",
              "    </tr>\n",
              "  </thead>\n",
              "  <tbody>\n",
              "    <tr>\n",
              "      <th>count</th>\n",
              "      <td>584.000000</td>\n",
              "      <td>584.000000</td>\n",
              "    </tr>\n",
              "    <tr>\n",
              "      <th>mean</th>\n",
              "      <td>93.577055</td>\n",
              "      <td>6.271747</td>\n",
              "    </tr>\n",
              "    <tr>\n",
              "      <th>std</th>\n",
              "      <td>27.761683</td>\n",
              "      <td>0.979256</td>\n",
              "    </tr>\n",
              "    <tr>\n",
              "      <th>min</th>\n",
              "      <td>4.000000</td>\n",
              "      <td>2.500000</td>\n",
              "    </tr>\n",
              "    <tr>\n",
              "      <th>25%</th>\n",
              "      <td>86.000000</td>\n",
              "      <td>5.700000</td>\n",
              "    </tr>\n",
              "    <tr>\n",
              "      <th>50%</th>\n",
              "      <td>97.000000</td>\n",
              "      <td>6.350000</td>\n",
              "    </tr>\n",
              "    <tr>\n",
              "      <th>75%</th>\n",
              "      <td>108.000000</td>\n",
              "      <td>7.000000</td>\n",
              "    </tr>\n",
              "    <tr>\n",
              "      <th>max</th>\n",
              "      <td>209.000000</td>\n",
              "      <td>9.000000</td>\n",
              "    </tr>\n",
              "  </tbody>\n",
              "</table>\n",
              "</div>\n",
              "      <button class=\"colab-df-convert\" onclick=\"convertToInteractive('df-d57ff63e-f5a0-4109-ad4b-b41f253af793')\"\n",
              "              title=\"Convert this dataframe to an interactive table.\"\n",
              "              style=\"display:none;\">\n",
              "        \n",
              "  <svg xmlns=\"http://www.w3.org/2000/svg\" height=\"24px\"viewBox=\"0 0 24 24\"\n",
              "       width=\"24px\">\n",
              "    <path d=\"M0 0h24v24H0V0z\" fill=\"none\"/>\n",
              "    <path d=\"M18.56 5.44l.94 2.06.94-2.06 2.06-.94-2.06-.94-.94-2.06-.94 2.06-2.06.94zm-11 1L8.5 8.5l.94-2.06 2.06-.94-2.06-.94L8.5 2.5l-.94 2.06-2.06.94zm10 10l.94 2.06.94-2.06 2.06-.94-2.06-.94-.94-2.06-.94 2.06-2.06.94z\"/><path d=\"M17.41 7.96l-1.37-1.37c-.4-.4-.92-.59-1.43-.59-.52 0-1.04.2-1.43.59L10.3 9.45l-7.72 7.72c-.78.78-.78 2.05 0 2.83L4 21.41c.39.39.9.59 1.41.59.51 0 1.02-.2 1.41-.59l7.78-7.78 2.81-2.81c.8-.78.8-2.07 0-2.86zM5.41 20L4 18.59l7.72-7.72 1.47 1.35L5.41 20z\"/>\n",
              "  </svg>\n",
              "      </button>\n",
              "      \n",
              "  <style>\n",
              "    .colab-df-container {\n",
              "      display:flex;\n",
              "      flex-wrap:wrap;\n",
              "      gap: 12px;\n",
              "    }\n",
              "\n",
              "    .colab-df-convert {\n",
              "      background-color: #E8F0FE;\n",
              "      border: none;\n",
              "      border-radius: 50%;\n",
              "      cursor: pointer;\n",
              "      display: none;\n",
              "      fill: #1967D2;\n",
              "      height: 32px;\n",
              "      padding: 0 0 0 0;\n",
              "      width: 32px;\n",
              "    }\n",
              "\n",
              "    .colab-df-convert:hover {\n",
              "      background-color: #E2EBFA;\n",
              "      box-shadow: 0px 1px 2px rgba(60, 64, 67, 0.3), 0px 1px 3px 1px rgba(60, 64, 67, 0.15);\n",
              "      fill: #174EA6;\n",
              "    }\n",
              "\n",
              "    [theme=dark] .colab-df-convert {\n",
              "      background-color: #3B4455;\n",
              "      fill: #D2E3FC;\n",
              "    }\n",
              "\n",
              "    [theme=dark] .colab-df-convert:hover {\n",
              "      background-color: #434B5C;\n",
              "      box-shadow: 0px 1px 3px 1px rgba(0, 0, 0, 0.15);\n",
              "      filter: drop-shadow(0px 1px 2px rgba(0, 0, 0, 0.3));\n",
              "      fill: #FFFFFF;\n",
              "    }\n",
              "  </style>\n",
              "\n",
              "      <script>\n",
              "        const buttonEl =\n",
              "          document.querySelector('#df-d57ff63e-f5a0-4109-ad4b-b41f253af793 button.colab-df-convert');\n",
              "        buttonEl.style.display =\n",
              "          google.colab.kernel.accessAllowed ? 'block' : 'none';\n",
              "\n",
              "        async function convertToInteractive(key) {\n",
              "          const element = document.querySelector('#df-d57ff63e-f5a0-4109-ad4b-b41f253af793');\n",
              "          const dataTable =\n",
              "            await google.colab.kernel.invokeFunction('convertToInteractive',\n",
              "                                                     [key], {});\n",
              "          if (!dataTable) return;\n",
              "\n",
              "          const docLinkHtml = 'Like what you see? Visit the ' +\n",
              "            '<a target=\"_blank\" href=https://colab.research.google.com/notebooks/data_table.ipynb>data table notebook</a>'\n",
              "            + ' to learn more about interactive tables.';\n",
              "          element.innerHTML = '';\n",
              "          dataTable['output_type'] = 'display_data';\n",
              "          await google.colab.output.renderOutput(dataTable, element);\n",
              "          const docLink = document.createElement('div');\n",
              "          docLink.innerHTML = docLinkHtml;\n",
              "          element.appendChild(docLink);\n",
              "        }\n",
              "      </script>\n",
              "    </div>\n",
              "  </div>\n",
              "  "
            ]
          },
          "metadata": {},
          "execution_count": 79
        }
      ]
    },
    {
      "cell_type": "code",
      "source": [
        "#somando a coluna tempo de filme\n",
        "df['Tempo_de_Filme'].sum()\n",
        "\n",
        "df['Título']\n",
        "\n",
        "type(df['Título']) \n",
        "\n",
        "\n",
        "lingua = df['Língua'].unique()\n",
        "print(lingua)\n",
        "len(lingua)"
      ],
      "metadata": {
        "id": "rRvnSAbhuA2G",
        "outputId": "4170bad2-b487-495d-eac2-26c19f18276f",
        "colab": {
          "base_uri": "https://localhost:8080/"
        }
      },
      "execution_count": 65,
      "outputs": [
        {
          "output_type": "stream",
          "name": "stdout",
          "text": [
            "['English/Japanese' 'Spanish' 'Italian' 'English' 'Hindi' 'Turkish'\n",
            " 'Korean' 'Indonesian' 'Malay' 'Dutch' 'French' 'English/Spanish'\n",
            " 'Portuguese' 'Filipino' 'German' 'Polish' 'Norwegian' 'Marathi' 'Thai'\n",
            " 'Swedish' 'Japanese' 'Spanish/Basque' 'Spanish/Catalan' 'English/Swedish'\n",
            " 'English/Taiwanese/Mandarin' 'Thia/English' 'English/Mandarin' 'Georgian'\n",
            " 'Bengali' 'Khmer/English/French' 'English/Hindi' 'Tamil'\n",
            " 'Spanish/English' 'English/Korean' 'English/Arabic' 'English/Russian'\n",
            " 'English/Akan' 'English/Ukranian/Russian']\n"
          ]
        },
        {
          "output_type": "execute_result",
          "data": {
            "text/plain": [
              "38"
            ]
          },
          "metadata": {},
          "execution_count": 65
        }
      ]
    },
    {
      "cell_type": "code",
      "source": [
        "def transforma_para_minusculas(x): \n",
        "   return(str(x).upper()) \n",
        "\n",
        "\n",
        "df['Língua'] = df['Língua'].apply(func = transforma_para_minusculas)\n"
      ],
      "metadata": {
        "id": "kl2wfeStyMbY"
      },
      "execution_count": 68,
      "outputs": []
    },
    {
      "cell_type": "code",
      "source": [
        "df['Língua'].unique()"
      ],
      "metadata": {
        "id": "sEAjFw2cz7kb",
        "outputId": "84b1b845-421a-4ed0-8668-e3b188f88b54",
        "colab": {
          "base_uri": "https://localhost:8080/"
        }
      },
      "execution_count": 69,
      "outputs": [
        {
          "output_type": "execute_result",
          "data": {
            "text/plain": [
              "array(['ENGLISH/JAPANESE', 'SPANISH', 'ITALIAN', 'ENGLISH', 'HINDI',\n",
              "       'TURKISH', 'KOREAN', 'INDONESIAN', 'MALAY', 'DUTCH', 'FRENCH',\n",
              "       'ENGLISH/SPANISH', 'PORTUGUESE', 'FILIPINO', 'GERMAN', 'POLISH',\n",
              "       'NORWEGIAN', 'MARATHI', 'THAI', 'SWEDISH', 'JAPANESE',\n",
              "       'SPANISH/BASQUE', 'SPANISH/CATALAN', 'ENGLISH/SWEDISH',\n",
              "       'ENGLISH/TAIWANESE/MANDARIN', 'THIA/ENGLISH', 'ENGLISH/MANDARIN',\n",
              "       'GEORGIAN', 'BENGALI', 'KHMER/ENGLISH/FRENCH', 'ENGLISH/HINDI',\n",
              "       'TAMIL', 'SPANISH/ENGLISH', 'ENGLISH/KOREAN', 'ENGLISH/ARABIC',\n",
              "       'ENGLISH/RUSSIAN', 'ENGLISH/AKAN', 'ENGLISH/UKRANIAN/RUSSIAN'],\n",
              "      dtype=object)"
            ]
          },
          "metadata": {},
          "execution_count": 69
        }
      ]
    },
    {
      "cell_type": "code",
      "source": [
        "df['Língua'].value_counts()"
      ],
      "metadata": {
        "id": "UmpEi2voz_fF",
        "outputId": "b2321a9c-2526-406c-d2bb-0bc78492ca00",
        "colab": {
          "base_uri": "https://localhost:8080/"
        }
      },
      "execution_count": 70,
      "outputs": [
        {
          "output_type": "execute_result",
          "data": {
            "text/plain": [
              "ENGLISH                       401\n",
              "HINDI                          33\n",
              "SPANISH                        31\n",
              "FRENCH                         20\n",
              "ITALIAN                        14\n",
              "PORTUGUESE                     12\n",
              "INDONESIAN                      9\n",
              "JAPANESE                        6\n",
              "KOREAN                          6\n",
              "GERMAN                          5\n",
              "TURKISH                         5\n",
              "ENGLISH/SPANISH                 5\n",
              "POLISH                          3\n",
              "DUTCH                           3\n",
              "MARATHI                         3\n",
              "ENGLISH/HINDI                   2\n",
              "THAI                            2\n",
              "ENGLISH/MANDARIN                2\n",
              "ENGLISH/JAPANESE                2\n",
              "FILIPINO                        2\n",
              "ENGLISH/RUSSIAN                 1\n",
              "BENGALI                         1\n",
              "ENGLISH/ARABIC                  1\n",
              "ENGLISH/KOREAN                  1\n",
              "SPANISH/ENGLISH                 1\n",
              "TAMIL                           1\n",
              "ENGLISH/AKAN                    1\n",
              "KHMER/ENGLISH/FRENCH            1\n",
              "SWEDISH                         1\n",
              "GEORGIAN                        1\n",
              "THIA/ENGLISH                    1\n",
              "ENGLISH/TAIWANESE/MANDARIN      1\n",
              "ENGLISH/SWEDISH                 1\n",
              "SPANISH/CATALAN                 1\n",
              "SPANISH/BASQUE                  1\n",
              "NORWEGIAN                       1\n",
              "MALAY                           1\n",
              "ENGLISH/UKRANIAN/RUSSIAN        1\n",
              "Name: Língua, dtype: int64"
            ]
          },
          "metadata": {},
          "execution_count": 70
        }
      ]
    },
    {
      "cell_type": "code",
      "source": [
        "\n",
        "df['Língua'].value_counts().plot(kind='bar')\n"
      ],
      "metadata": {
        "id": "uKMvwoZj0LSc",
        "outputId": "6bbfac2f-8fa0-4c2b-b136-c96ef8f9f07b",
        "colab": {
          "base_uri": "https://localhost:8080/",
          "height": 435
        }
      },
      "execution_count": 71,
      "outputs": [
        {
          "output_type": "execute_result",
          "data": {
            "text/plain": [
              "<matplotlib.axes._subplots.AxesSubplot at 0x7f4413efaa90>"
            ]
          },
          "metadata": {},
          "execution_count": 71
        },
        {
          "output_type": "display_data",
          "data": {
            "text/plain": [
              "<Figure size 432x288 with 1 Axes>"
            ],
            "image/png": "[encoded data removed]"
          },
          "metadata": {
            "needs_background": "light"
          }
        }
      ]
    },
    {
      "cell_type": "code",
      "source": [
        "df['Língua'].value_counts().sort_values(ascending = False)"
      ],
      "metadata": {
        "id": "X7qjOMhT0TUG",
        "outputId": "363bffbe-42d3-46ee-cb9e-858863533098",
        "colab": {
          "base_uri": "https://localhost:8080/"
        }
      },
      "execution_count": 73,
      "outputs": [
        {
          "output_type": "execute_result",
          "data": {
            "text/plain": [
              "ENGLISH                       401\n",
              "HINDI                          33\n",
              "SPANISH                        31\n",
              "FRENCH                         20\n",
              "ITALIAN                        14\n",
              "PORTUGUESE                     12\n",
              "INDONESIAN                      9\n",
              "KOREAN                          6\n",
              "JAPANESE                        6\n",
              "GERMAN                          5\n",
              "TURKISH                         5\n",
              "ENGLISH/SPANISH                 5\n",
              "POLISH                          3\n",
              "DUTCH                           3\n",
              "MARATHI                         3\n",
              "ENGLISH/MANDARIN                2\n",
              "ENGLISH/JAPANESE                2\n",
              "FILIPINO                        2\n",
              "THAI                            2\n",
              "ENGLISH/HINDI                   2\n",
              "MALAY                           1\n",
              "NORWEGIAN                       1\n",
              "SPANISH/BASQUE                  1\n",
              "SPANISH/CATALAN                 1\n",
              "ENGLISH/SWEDISH                 1\n",
              "ENGLISH/TAIWANESE/MANDARIN      1\n",
              "THIA/ENGLISH                    1\n",
              "GEORGIAN                        1\n",
              "SWEDISH                         1\n",
              "KHMER/ENGLISH/FRENCH            1\n",
              "ENGLISH/AKAN                    1\n",
              "TAMIL                           1\n",
              "SPANISH/ENGLISH                 1\n",
              "ENGLISH/KOREAN                  1\n",
              "ENGLISH/ARABIC                  1\n",
              "BENGALI                         1\n",
              "ENGLISH/RUSSIAN                 1\n",
              "ENGLISH/UKRANIAN/RUSSIAN        1\n",
              "Name: Língua, dtype: int64"
            ]
          },
          "metadata": {},
          "execution_count": 73
        }
      ]
    },
    {
      "cell_type": "code",
      "source": [
        "\n",
        "df.loc[0:3,'Título':'Genero'] #nr indice,iniico coluna : fim_coluna"
      ],
      "metadata": {
        "id": "daRGxh0e0eI-",
        "outputId": "9ba6d99b-ca64-41d7-a25f-22e329c1e4e7",
        "colab": {
          "base_uri": "https://localhost:8080/",
          "height": 175
        }
      },
      "execution_count": 75,
      "outputs": [
        {
          "output_type": "execute_result",
          "data": {
            "text/plain": [
              "            Título                 Genero\n",
              "0  Enter the Anime            Documentary\n",
              "1      Dark Forces               Thriller\n",
              "2          The App  Science fiction/Drama\n",
              "3   The Open House        Horror thriller"
            ],
            "text/html": [
              "\n",
              "  <div id=\"df-9a3aa70a-6453-46aa-bd17-d67fd14387b6\">\n",
              "    <div class=\"colab-df-container\">\n",
              "      <div>\n",
              "<style scoped>\n",
              "    .dataframe tbody tr th:only-of-type {\n",
              "        vertical-align: middle;\n",
              "    }\n",
              "\n",
              "    .dataframe tbody tr th {\n",
              "        vertical-align: top;\n",
              "    }\n",
              "\n",
              "    .dataframe thead th {\n",
              "        text-align: right;\n",
              "    }\n",
              "</style>\n",
              "<table border=\"1\" class=\"dataframe\">\n",
              "  <thead>\n",
              "    <tr style=\"text-align: right;\">\n",
              "      <th></th>\n",
              "      <th>Título</th>\n",
              "      <th>Genero</th>\n",
              "    </tr>\n",
              "  </thead>\n",
              "  <tbody>\n",
              "    <tr>\n",
              "      <th>0</th>\n",
              "      <td>Enter the Anime</td>\n",
              "      <td>Documentary</td>\n",
              "    </tr>\n",
              "    <tr>\n",
              "      <th>1</th>\n",
              "      <td>Dark Forces</td>\n",
              "      <td>Thriller</td>\n",
              "    </tr>\n",
              "    <tr>\n",
              "      <th>2</th>\n",
              "      <td>The App</td>\n",
              "      <td>Science fiction/Drama</td>\n",
              "    </tr>\n",
              "    <tr>\n",
              "      <th>3</th>\n",
              "      <td>The Open House</td>\n",
              "      <td>Horror thriller</td>\n",
              "    </tr>\n",
              "  </tbody>\n",
              "</table>\n",
              "</div>\n",
              "      <button class=\"colab-df-convert\" onclick=\"convertToInteractive('df-9a3aa70a-6453-46aa-bd17-d67fd14387b6')\"\n",
              "              title=\"Convert this dataframe to an interactive table.\"\n",
              "              style=\"display:none;\">\n",
              "        \n",
              "  <svg xmlns=\"http://www.w3.org/2000/svg\" height=\"24px\"viewBox=\"0 0 24 24\"\n",
              "       width=\"24px\">\n",
              "    <path d=\"M0 0h24v24H0V0z\" fill=\"none\"/>\n",
              "    <path d=\"M18.56 5.44l.94 2.06.94-2.06 2.06-.94-2.06-.94-.94-2.06-.94 2.06-2.06.94zm-11 1L8.5 8.5l.94-2.06 2.06-.94-2.06-.94L8.5 2.5l-.94 2.06-2.06.94zm10 10l.94 2.06.94-2.06 2.06-.94-2.06-.94-.94-2.06-.94 2.06-2.06.94z\"/><path d=\"M17.41 7.96l-1.37-1.37c-.4-.4-.92-.59-1.43-.59-.52 0-1.04.2-1.43.59L10.3 9.45l-7.72 7.72c-.78.78-.78 2.05 0 2.83L4 21.41c.39.39.9.59 1.41.59.51 0 1.02-.2 1.41-.59l7.78-7.78 2.81-2.81c.8-.78.8-2.07 0-2.86zM5.41 20L4 18.59l7.72-7.72 1.47 1.35L5.41 20z\"/>\n",
              "  </svg>\n",
              "      </button>\n",
              "      \n",
              "  <style>\n",
              "    .colab-df-container {\n",
              "      display:flex;\n",
              "      flex-wrap:wrap;\n",
              "      gap: 12px;\n",
              "    }\n",
              "\n",
              "    .colab-df-convert {\n",
              "      background-color: #E8F0FE;\n",
              "      border: none;\n",
              "      border-radius: 50%;\n",
              "      cursor: pointer;\n",
              "      display: none;\n",
              "      fill: #1967D2;\n",
              "      height: 32px;\n",
              "      padding: 0 0 0 0;\n",
              "      width: 32px;\n",
              "    }\n",
              "\n",
              "    .colab-df-convert:hover {\n",
              "      background-color: #E2EBFA;\n",
              "      box-shadow: 0px 1px 2px rgba(60, 64, 67, 0.3), 0px 1px 3px 1px rgba(60, 64, 67, 0.15);\n",
              "      fill: #174EA6;\n",
              "    }\n",
              "\n",
              "    [theme=dark] .colab-df-convert {\n",
              "      background-color: #3B4455;\n",
              "      fill: #D2E3FC;\n",
              "    }\n",
              "\n",
              "    [theme=dark] .colab-df-convert:hover {\n",
              "      background-color: #434B5C;\n",
              "      box-shadow: 0px 1px 3px 1px rgba(0, 0, 0, 0.15);\n",
              "      filter: drop-shadow(0px 1px 2px rgba(0, 0, 0, 0.3));\n",
              "      fill: #FFFFFF;\n",
              "    }\n",
              "  </style>\n",
              "\n",
              "      <script>\n",
              "        const buttonEl =\n",
              "          document.querySelector('#df-9a3aa70a-6453-46aa-bd17-d67fd14387b6 button.colab-df-convert');\n",
              "        buttonEl.style.display =\n",
              "          google.colab.kernel.accessAllowed ? 'block' : 'none';\n",
              "\n",
              "        async function convertToInteractive(key) {\n",
              "          const element = document.querySelector('#df-9a3aa70a-6453-46aa-bd17-d67fd14387b6');\n",
              "          const dataTable =\n",
              "            await google.colab.kernel.invokeFunction('convertToInteractive',\n",
              "                                                     [key], {});\n",
              "          if (!dataTable) return;\n",
              "\n",
              "          const docLinkHtml = 'Like what you see? Visit the ' +\n",
              "            '<a target=\"_blank\" href=https://colab.research.google.com/notebooks/data_table.ipynb>data table notebook</a>'\n",
              "            + ' to learn more about interactive tables.';\n",
              "          element.innerHTML = '';\n",
              "          dataTable['output_type'] = 'display_data';\n",
              "          await google.colab.output.renderOutput(dataTable, element);\n",
              "          const docLink = document.createElement('div');\n",
              "          docLink.innerHTML = docLinkHtml;\n",
              "          element.appendChild(docLink);\n",
              "        }\n",
              "      </script>\n",
              "    </div>\n",
              "  </div>\n",
              "  "
            ]
          },
          "metadata": {},
          "execution_count": 75
        }
      ]
    },
    {
      "cell_type": "code",
      "source": [
        "df.iloc[0:2,0:2] #exibe por índice"
      ],
      "metadata": {
        "id": "e_Lrl23t1Odt",
        "outputId": "0ca57533-6e6d-4e39-e7df-6de85ea5436b",
        "colab": {
          "base_uri": "https://localhost:8080/",
          "height": 112
        }
      },
      "execution_count": 77,
      "outputs": [
        {
          "output_type": "execute_result",
          "data": {
            "text/plain": [
              "            Título       Genero\n",
              "0  Enter the Anime  Documentary\n",
              "1      Dark Forces     Thriller"
            ],
            "text/html": [
              "\n",
              "  <div id=\"df-b8721f56-55fc-4a8e-af26-cfa9e1653fbf\">\n",
              "    <div class=\"colab-df-container\">\n",
              "      <div>\n",
              "<style scoped>\n",
              "    .dataframe tbody tr th:only-of-type {\n",
              "        vertical-align: middle;\n",
              "    }\n",
              "\n",
              "    .dataframe tbody tr th {\n",
              "        vertical-align: top;\n",
              "    }\n",
              "\n",
              "    .dataframe thead th {\n",
              "        text-align: right;\n",
              "    }\n",
              "</style>\n",
              "<table border=\"1\" class=\"dataframe\">\n",
              "  <thead>\n",
              "    <tr style=\"text-align: right;\">\n",
              "      <th></th>\n",
              "      <th>Título</th>\n",
              "      <th>Genero</th>\n",
              "    </tr>\n",
              "  </thead>\n",
              "  <tbody>\n",
              "    <tr>\n",
              "      <th>0</th>\n",
              "      <td>Enter the Anime</td>\n",
              "      <td>Documentary</td>\n",
              "    </tr>\n",
              "    <tr>\n",
              "      <th>1</th>\n",
              "      <td>Dark Forces</td>\n",
              "      <td>Thriller</td>\n",
              "    </tr>\n",
              "  </tbody>\n",
              "</table>\n",
              "</div>\n",
              "      <button class=\"colab-df-convert\" onclick=\"convertToInteractive('df-b8721f56-55fc-4a8e-af26-cfa9e1653fbf')\"\n",
              "              title=\"Convert this dataframe to an interactive table.\"\n",
              "              style=\"display:none;\">\n",
              "        \n",
              "  <svg xmlns=\"http://www.w3.org/2000/svg\" height=\"24px\"viewBox=\"0 0 24 24\"\n",
              "       width=\"24px\">\n",
              "    <path d=\"M0 0h24v24H0V0z\" fill=\"none\"/>\n",
              "    <path d=\"M18.56 5.44l.94 2.06.94-2.06 2.06-.94-2.06-.94-.94-2.06-.94 2.06-2.06.94zm-11 1L8.5 8.5l.94-2.06 2.06-.94-2.06-.94L8.5 2.5l-.94 2.06-2.06.94zm10 10l.94 2.06.94-2.06 2.06-.94-2.06-.94-.94-2.06-.94 2.06-2.06.94z\"/><path d=\"M17.41 7.96l-1.37-1.37c-.4-.4-.92-.59-1.43-.59-.52 0-1.04.2-1.43.59L10.3 9.45l-7.72 7.72c-.78.78-.78 2.05 0 2.83L4 21.41c.39.39.9.59 1.41.59.51 0 1.02-.2 1.41-.59l7.78-7.78 2.81-2.81c.8-.78.8-2.07 0-2.86zM5.41 20L4 18.59l7.72-7.72 1.47 1.35L5.41 20z\"/>\n",
              "  </svg>\n",
              "      </button>\n",
              "      \n",
              "  <style>\n",
              "    .colab-df-container {\n",
              "      display:flex;\n",
              "      flex-wrap:wrap;\n",
              "      gap: 12px;\n",
              "    }\n",
              "\n",
              "    .colab-df-convert {\n",
              "      background-color: #E8F0FE;\n",
              "      border: none;\n",
              "      border-radius: 50%;\n",
              "      cursor: pointer;\n",
              "      display: none;\n",
              "      fill: #1967D2;\n",
              "      height: 32px;\n",
              "      padding: 0 0 0 0;\n",
              "      width: 32px;\n",
              "    }\n",
              "\n",
              "    .colab-df-convert:hover {\n",
              "      background-color: #E2EBFA;\n",
              "      box-shadow: 0px 1px 2px rgba(60, 64, 67, 0.3), 0px 1px 3px 1px rgba(60, 64, 67, 0.15);\n",
              "      fill: #174EA6;\n",
              "    }\n",
              "\n",
              "    [theme=dark] .colab-df-convert {\n",
              "      background-color: #3B4455;\n",
              "      fill: #D2E3FC;\n",
              "    }\n",
              "\n",
              "    [theme=dark] .colab-df-convert:hover {\n",
              "      background-color: #434B5C;\n",
              "      box-shadow: 0px 1px 3px 1px rgba(0, 0, 0, 0.15);\n",
              "      filter: drop-shadow(0px 1px 2px rgba(0, 0, 0, 0.3));\n",
              "      fill: #FFFFFF;\n",
              "    }\n",
              "  </style>\n",
              "\n",
              "      <script>\n",
              "        const buttonEl =\n",
              "          document.querySelector('#df-b8721f56-55fc-4a8e-af26-cfa9e1653fbf button.colab-df-convert');\n",
              "        buttonEl.style.display =\n",
              "          google.colab.kernel.accessAllowed ? 'block' : 'none';\n",
              "\n",
              "        async function convertToInteractive(key) {\n",
              "          const element = document.querySelector('#df-b8721f56-55fc-4a8e-af26-cfa9e1653fbf');\n",
              "          const dataTable =\n",
              "            await google.colab.kernel.invokeFunction('convertToInteractive',\n",
              "                                                     [key], {});\n",
              "          if (!dataTable) return;\n",
              "\n",
              "          const docLinkHtml = 'Like what you see? Visit the ' +\n",
              "            '<a target=\"_blank\" href=https://colab.research.google.com/notebooks/data_table.ipynb>data table notebook</a>'\n",
              "            + ' to learn more about interactive tables.';\n",
              "          element.innerHTML = '';\n",
              "          dataTable['output_type'] = 'display_data';\n",
              "          await google.colab.output.renderOutput(dataTable, element);\n",
              "          const docLink = document.createElement('div');\n",
              "          docLink.innerHTML = docLinkHtml;\n",
              "          element.appendChild(docLink);\n",
              "        }\n",
              "      </script>\n",
              "    </div>\n",
              "  </div>\n",
              "  "
            ]
          },
          "metadata": {},
          "execution_count": 77
        }
      ]
    },
    {
      "cell_type": "code",
      "source": [
        "df.loc[df['Língua'] == 'Spanish']['Título'] #pesquisa em um campo pelos parâmetros informados\n",
        "\n"
      ],
      "metadata": {
        "id": "uF6CbnL_1gQs",
        "outputId": "75738c09-8daf-4763-d5c5-3855003824a2",
        "colab": {
          "base_uri": "https://localhost:8080/"
        }
      },
      "execution_count": 87,
      "outputs": [
        {
          "output_type": "execute_result",
          "data": {
            "text/plain": [
              "1                                        Dark Forces\n",
              "15                                    After the Raid\n",
              "53                               The Day of the Lord\n",
              "88                                         Intuition\n",
              "92          Who Would You Take to a Deserted Island?\n",
              "96                                Despite Everything\n",
              "137                                    The Paramedic\n",
              "144                                       Dad Wanted\n",
              "190                                  You've Got This\n",
              "242                                  Unknown Origins\n",
              "246                                       Below Zero\n",
              "254                            Offering to the Storm\n",
              "276                                 Notes for My Son\n",
              "296                             Como Caído del Cielo\n",
              "313                                     The Occupant\n",
              "338                            Nobody Knows I'm Here\n",
              "349                                  Crazy About Her\n",
              "350                                  Elisa & Marcela\n",
              "361                             The Crimes That Bind\n",
              "384                         Parchis: The Documentary\n",
              "390                                           7 años\n",
              "392    A Life of Speed: The Juan Manuel Fangio Story\n",
              "436                       Lorena, Light-Footed Woman\n",
              "437            Los Tigres del Norte at Folsom Prison\n",
              "458                          El Pepe: A Supreme Life\n",
              "463              Guillermo Vilas: Settling the Score\n",
              "489                                        Seventeen\n",
              "504                               I'm No Longer Here\n",
              "558                                     Road to Roma\n",
              "559                                             Roma\n",
              "575            The Three Deaths of Marisela Escobedo\n",
              "Name: Título, dtype: object"
            ]
          },
          "metadata": {},
          "execution_count": 87
        }
      ]
    },
    {
      "cell_type": "code",
      "source": [
        "df.loc[df['Língua'] == 'Spanish']['Título'].count()"
      ],
      "metadata": {
        "id": "CwtOXYfF2BKo",
        "outputId": "8eb82fe9-5abc-403b-9222-5c48238fec17",
        "colab": {
          "base_uri": "https://localhost:8080/"
        }
      },
      "execution_count": 88,
      "outputs": [
        {
          "output_type": "execute_result",
          "data": {
            "text/plain": [
              "31"
            ]
          },
          "metadata": {},
          "execution_count": 88
        }
      ]
    },
    {
      "cell_type": "code",
      "source": [],
      "metadata": {
        "id": "rkosGQUi2jTV"
      },
      "execution_count": null,
      "outputs": []
    }
  ]
}