{
  "nbformat": 4,
  "nbformat_minor": 0,
  "metadata": {
    "colab": {
      "provenance": [],
      "collapsed_sections": [],
      "include_colab_link": true
    },
    "kernelspec": {
      "name": "python3",
      "display_name": "Python 3"
    },
    "language_info": {
      "name": "python"
    }
  },
  "cells": [
    {
      "cell_type": "markdown",
      "metadata": {
        "id": "view-in-github",
        "colab_type": "text"
      },
      "source": [
        "<a href=\"https://colab.research.google.com/github/mcozono/TERA/blob/main/01%20-%20Python/01%20-%20Workshop%20Python%201/Workshop_Python_1.ipynb\" target=\"_parent\"><img src=\"https://colab.research.google.com/assets/colab-badge.svg\" alt=\"Open In Colab\"/></a>"
      ]
    },
    {
      "cell_type": "markdown",
      "source": [
        "#**Seja bem vindo ao Workshop de Python da TERA !**\n",
        "\n",
        "# **É muito bom ter você aqui ! :)**\n",
        "\n",
        "**Abordaremos os seguintes aspectos da programação em Python:**\n",
        "\n",
        "*   O que é o Python\n",
        "*   Ambiente de Desenvolvimento: Google Collab, Pycharm, Anaconda - Jupyter\n",
        "*   Estruturas de Dados Simples como Variáveis Nativas do Interpretador\n",
        "*   Operadores Lógicos como **and** e **or**\n",
        "*   Estruturas Compostas como Listas, Tuplas e Dicionários\n",
        "*   Estruturas Condicionais como **if**, **for**, **while** simples e compostas\n",
        "\n",
        "\n",
        "\n"
      ],
      "metadata": {
        "id": "OCNgspshXctV"
      }
    },
    {
      "cell_type": "markdown",
      "source": [
        "# **Ambientes de Desenvolvimento**\n",
        "\n",
        "\n",
        "\n",
        "1.   Google Collab - Free, não precisa instalar e oferece uso de GPU e conecta no Google Drive - [colab.research.google.com](https://colab.research.google.com)\n",
        "2.   Pycharm - Versão Community ou Paga - Necessita de instalação tanto do Python em sua máquina bem como da IDE (Ambiente de Desenvolvimento) em sua máquina - https://www.jetbrains.com/pt-br/pycharm-edu/\n",
        "3.   Visual Studio Code - IDE Free da Microsoft que permite desenvolver com mais de uma linguagem no mesmo ambiente - https://code.visualstudio.com/\n",
        "4.  Anaconda - Suíte de Desenvolvimento Free e gestão de dependências e ambientes. Praticamente um canivete suíço para Análise e Ciência de Dados - https://www.anaconda.com/\n",
        "5.  Jupyter Notebook - Interface de Desenvolvimento Online Free que pode ser utilizado local ou pela internet - https://jupyter.org/\n",
        "\n",
        "\n"
      ],
      "metadata": {
        "id": "gQ8adi23aRBd"
      }
    },
    {
      "cell_type": "markdown",
      "source": [
        "#**Estudo de Caso**\n",
        "\n",
        "Temos uma lista de notas da turma de Python 101 compostas dos resultados das avaliações N1, N2, Sub e Média Final formatada em um arquivo csv.\n",
        "\n",
        "Nossa missão é calcular a Média Final e exibir o resultado da turma por aluno e depois a Méda Global da Turma.\n",
        "\n",
        "---\n",
        "**Segue forma de cálculo da métrica:**\n",
        "\n",
        "**MF** = (((N1 x 0.4) + (N2 x 0.6)) /(N1+N2)).\n",
        "\n",
        "**Caso não tenha atingido a Média com a N1 e N2:**\n",
        "\n",
        "**MF com Sub** = (((N1 x 0.4) + (N2 x 0.6)) + Sub /(N1+N2+Sub))\n",
        "\n",
        "--- \n",
        "\n",
        "A Sub só é aplicada quando o aluno não atinge a média com a N1 e N2.\n",
        "\n",
        "**O Aluno é aprovado em caso de Média Final Maior ou Igual a 7. Menor que 7 o aluno é encaminhado para DP.**\n",
        "\n",
        "\n"
      ],
      "metadata": {
        "id": "1jaK5QEYZZfp"
      }
    },
    {
      "cell_type": "markdown",
      "source": [
        "**Layout do Arquivo**\n",
        "\n",
        "matricula;nome;n1;n2;sub\n",
        "\n",
        "**Dicionário de Dados**\n",
        "\n",
        "Dicionário de Dados é um artefato de arquitetura de dados que documenta a estrutura de uma entrada de dados, criando um \"contrato\" entre utilizadores da estrutura.\n",
        "\n",
        "\n",
        "|Campo |Tipo |Posição\n",
        "|:-----: |:----: |:-------:\n",
        "|matricula|Inteiro|1\n",
        "|nome|Alfanumérico|2\n",
        "|n1|Real|3\n",
        "|n2|Real|4\n",
        "|sub|Real|5\n",
        "\n",
        "---\n",
        "\n",
        "\n"
      ],
      "metadata": {
        "id": "CaI8FUMX7tTs"
      }
    },
    {
      "cell_type": "markdown",
      "source": [
        "#**Estratégia e Algoritmo:**\n",
        "\n",
        "**O que é um Algoritmo**\n",
        "\n",
        "*   Ações necessárias para atingir um objetivo\n",
        "*   Representação de como resolvemos um determinado problema\n",
        "* Será executado linha a linha pelo compilador ou interpretador\n",
        "* Geralmente os algoritmos dependem de algumas informações para iniciarem a sua execução : entrada\n",
        "* Os algoritmos geralmente geram uma saída após o seu processamento\n",
        "\n",
        "\n",
        "**Vamos planejar nosso desenvolvimento**\n",
        "\n",
        "1.   Leitura do Arquivo csv\n",
        "2.   Separação dos registros e criação da estrutura de dados\n",
        "3.   Cálculo da Média Geral\n",
        "4.   Verificação de Aprovação\n",
        "5.   Impressão do Resultado do Aluno\n",
        "6.   Cálculo do Acumulado pela Turma\n",
        "7.   Impressão da Médica Geral\n",
        "\n",
        "\n",
        "\n"
      ],
      "metadata": {
        "id": "8TsK0WCV7gOf"
      }
    },
    {
      "cell_type": "markdown",
      "source": [
        "#**Estruturas de Dados**\n",
        "\n",
        "**Variáveis**\n",
        "\n",
        "Espaço em memória para armazenamento temporário de valores para processamento.\n",
        "\n",
        "Elas podem ser:\n",
        "\n",
        "  * **Primitivas** - Fazem parte do compilador ou interpretador\n",
        "  * **Compostas** - São definidas pelo desenvolvedor\n",
        "\n",
        "**E ainda podem se subdividir em:**\n",
        "  * **Mutáveis** - Permitem ter o seu conteúdo substituído ou alterado\n",
        "  * **Não Mutáveis** - Seu conteúdo não pode ser substituído\n",
        "\n",
        "\n",
        "**Variáveis e o Python**\n",
        "\n",
        "O Python é uma linguagem **FORTEMENTE TIPADA**, e o que é isso ?\n",
        "\n",
        "  Significa que ele valida o tipo do conteúdo e aloca o espaço de memória de acordo com este tipo. Porém ele o identifica de forma automática, sem precisar de uma definição explícita.\n",
        "\n",
        "Porém, uma vez definido, o interpretador não faz a conversão automática, e em caso de execuções com funções que esperam como parâmetro uma string, o interpretador poderá retornar erro para esta execução.\n",
        "\n",
        "\n",
        "**Condicionais para usarmos nas estruturas de decisão e laço**\n",
        "\n",
        "\n",
        "**Igual:** a == b\n",
        "\n",
        "**Diferente:**a != b\n",
        "\n",
        "**Menor que:** a < b\n",
        "\n",
        "**Menor ou igual a:** a <= b\n",
        "\n",
        "**Maior que:** a > b\n",
        "\n",
        "**Maior ou igual que:** a >= b\n",
        "\n"
      ],
      "metadata": {
        "id": "ghlfbxgXcdd0"
      }
    },
    {
      "cell_type": "markdown",
      "source": [
        "#**Decisores e Laços Condicionais:**\n",
        "\n",
        "**IF - Condição SE**\n",
        "```\n",
        "a = 33\n",
        "\n",
        "b = 200\n",
        "\n",
        "if b > a:\n",
        "  print(\"b é maior que a\")\n",
        "```\n",
        "\n",
        "**ELIF - SENÃO**\n",
        "```\n",
        "a = 33\n",
        "b = 33\n",
        "\n",
        "if b > a:\n",
        "  print(\"b é maior que  a\")\n",
        "\n",
        "elif a == b:\n",
        "  print(\"a e b são iguais\")\n",
        "\n",
        "```\n",
        "\n",
        "**FOR - Condição PARA**\n",
        "```\n",
        "frutas = [\"maçã\", \"banana\", \"cereja\"]\n",
        "\n",
        "for x in frutas:\n",
        "    print(x)\n",
        "```\n",
        "\n",
        "**ENQUANTO - Condição PARA**\n",
        "```\n",
        "i = 1\n",
        "while i < 6:\n",
        "  print(i)\n",
        "  i += 1\n",
        "```"
      ],
      "metadata": {
        "id": "1yuQBQgseN_6"
      }
    },
    {
      "cell_type": "markdown",
      "source": [
        "#**Tipos Primitivos e Compostos**"
      ],
      "metadata": {
        "id": "QJFlrSl9R-rO"
      }
    },
    {
      "cell_type": "code",
      "source": [
        "\n",
        "nome = 'Melissa'\n",
        "idade = 42\n",
        "altura = 1.64\n",
        "peso = 70.5\n",
        "\n",
        "print ('Aprendendo sobre tipos primitivos')\n",
        "\n",
        "print(type(nome))\n",
        "print(type(idade))\n",
        "print(type(altura))\n",
        "print(type(peso))\n",
        "\n",
        "#com erro\n",
        "#print('Tipo de variável altura'+ type(altura))\n",
        "\n",
        "#como corrigir\n",
        "#print('Tipo da variável altura: ' + str(type(altura)))\n",
        "#print('Tipo da variável nome: ' + str(type(nome)))\n",
        "#print('Tipo da variável idade: ' + str(type(idade)))\n",
        "#print('Tipo da variável altura: ' + str(type(altura))) \n",
        "#print('Tipo da variável altura: ' + str(type(peso)))"
      ],
      "metadata": {
        "colab": {
          "base_uri": "https://localhost:8080/"
        },
        "id": "e9pUSDSFsGMt",
        "outputId": "245dd8a4-535b-47cc-8788-2ed34eee9925"
      },
      "execution_count": 7,
      "outputs": [
        {
          "output_type": "stream",
          "name": "stdout",
          "text": [
            "Aprendendo sobre tipos primitivos\n",
            "<class 'str'>\n",
            "<class 'int'>\n",
            "<class 'float'>\n",
            "<class 'float'>\n"
          ]
        }
      ]
    },
    {
      "cell_type": "markdown",
      "source": [
        "#**Tuplas**\n"
      ],
      "metadata": {
        "id": "Ah0p3kLLGbzD"
      }
    },
    {
      "cell_type": "code",
      "source": [
        "tupla = tuple()\n",
        "print(type(tupla))\n",
        "\n",
        "#Criando tupla com ítens\n",
        "tupla_com_valores =(1, 2, 3)\n",
        "\n",
        "#Qual o tamanho da minha Tupla ?\n",
        "print('Tupla Original')\n",
        "print(len(tupla_com_valores))\n",
        "\n",
        "#Tuplas são imutáveis, não é permitido adicionar valores a tupla diretamente, mas temos como resolver :)\n",
        "tupla_com_valores = tupla_com_valores + (4,)\n",
        "\n",
        "#Qual o tamanho da minha Tupla ?\n",
        "print('Adicionei nova posição')\n",
        "len(tupla_com_valores)\n",
        "\n",
        "\n",
        "#Percorrer a tupla\n",
        "for item in tupla_com_valores:\n",
        "  print(item)\n",
        "\n",
        "\n",
        "\n",
        "#vamos somar os ítens da tupla ?\n",
        "calculo = 0\n",
        "for item in tupla_com_valores:\n",
        "    calculo += +item\n",
        "\n",
        "print('Resultado da soma '+ str(calculo))\n",
        "\n",
        "#Pesquisa na Tupla\n",
        "tupla_com_valores.index(2)"
      ],
      "metadata": {
        "colab": {
          "base_uri": "https://localhost:8080/"
        },
        "id": "77tWJjTwEpMv",
        "outputId": "21100357-0e3a-4154-d10c-28303ee82aff"
      },
      "execution_count": 33,
      "outputs": [
        {
          "output_type": "stream",
          "name": "stdout",
          "text": [
            "<class 'tuple'>\n",
            "Tupla Original\n",
            "3\n",
            "Adicionei nova posição\n",
            "1\n",
            "2\n",
            "3\n",
            "4\n",
            "Resultado da soma 10\n"
          ]
        },
        {
          "output_type": "execute_result",
          "data": {
            "text/plain": [
              "1"
            ]
          },
          "metadata": {},
          "execution_count": 33
        }
      ]
    },
    {
      "cell_type": "markdown",
      "source": [
        "#**Listas**"
      ],
      "metadata": {
        "id": "op2x3sZgSPXb"
      }
    },
    {
      "cell_type": "code",
      "source": [
        "lista = list()\n",
        "\n",
        "print (type(lista))\n",
        "\n",
        "#Criando lista com ítens\n",
        "lista_com_valores = [1, 2, 3]\n",
        "\n",
        "\n",
        "#Qual o tamanho da minha Lista ?\n",
        "print('Tamanho da Lista')\n",
        "print(len(lista_com_valores))\n",
        "\n",
        "\n",
        "#Adicionando um ítem ao fim da lista\n",
        "print('Adicionando um ítem ao fim da lista')\n",
        "lista_com_valores.append(4)\n",
        "print(len(lista_com_valores))\n",
        "\n",
        "#Adicionando um ítem em uma posição na lista\n",
        "print('Adicionando um ítem em uma posição na lista')\n",
        "lista_com_valores.insert(4,1)\n",
        "\n",
        "print('Tamanho da lista após adicionar um ítem')\n",
        "print(len(lista_com_valores))\n",
        "\n",
        "#percorrendo items da lista com valores\n",
        "print('percorrendo items da lista com valores')\n",
        "for item in lista_com_valores:\n",
        "  print(item)\n",
        "\n",
        "\n",
        "#remover ítem da lista informando a sua posição\n",
        "lista_com_valores.pop(0)\n",
        "\n",
        "\n",
        "#após a remoção como ficoiu a lista\n",
        "print('percorrendo items da lista com valores')\n",
        "for item in lista_com_valores:\n",
        "  print(item)\n",
        "\n",
        "#ordenação reversa\n",
        "lista_com_valores.sort(reverse=True) #pode ser usado como variavel.reverse()\n",
        "print('percorrendo items da lista com valores, após ordenação reversa')\n",
        "for item in lista_com_valores:\n",
        "  print(item)\n",
        "\n",
        "\n",
        "#ordenação crescente\n",
        "lista_com_valores.sort()\n",
        "print('percorrendo items da lista com valores, após ordenação crescente')\n",
        "\n",
        "for item in lista_com_valores:\n",
        "  print(item)\n"
      ],
      "metadata": {
        "colab": {
          "base_uri": "https://localhost:8080/"
        },
        "id": "t_6M5MKNGbik",
        "outputId": "7b41f295-e176-432f-d8b5-7df5b2b5e8e2"
      },
      "execution_count": 52,
      "outputs": [
        {
          "output_type": "stream",
          "name": "stdout",
          "text": [
            "<class 'list'>\n",
            "Tamanho da Lista\n",
            "3\n",
            "Adicionando um ítem ao fim da lista\n",
            "4\n",
            "Adicionando um ítem em uma posição na lista\n",
            "Tamanho da lista após adicionar um ítem\n",
            "5\n",
            "percorrendo items da lista com valores\n",
            "1\n",
            "2\n",
            "3\n",
            "4\n",
            "1\n",
            "percorrendo items da lista com valores\n",
            "2\n",
            "3\n",
            "4\n",
            "1\n",
            "percorrendo items da lista com valores, após ordenação reversa\n",
            "4\n",
            "3\n",
            "2\n",
            "1\n",
            "percorrendo items da lista com valores, após ordenação crescente\n",
            "1\n",
            "2\n",
            "3\n",
            "4\n"
          ]
        }
      ]
    },
    {
      "cell_type": "markdown",
      "source": [
        "#**Dicionários**"
      ],
      "metadata": {
        "id": "C28Pt5GFSSPr"
      }
    },
    {
      "cell_type": "code",
      "source": [
        "dicionario = {\"mae\": \"Melissa\", \n",
        "              \"parente\": \"Marcel\", \n",
        "              \"filha\": \"Rafaela\", \n",
        "              \"filho\": \"Benício\"}\n",
        "              \n",
        "\n",
        "#tipo de estrutura\n",
        "print(\"Imprimindo o tipo de estrutura de dados\")\n",
        "print(type(dicionario))\n",
        "\n",
        "\n",
        "#Atualizando uma chave\n",
        "print(\"Atualizando uma chave\")\n",
        "#Chave Parente antres da Atualização\n",
        "print(dicionario[\"parente\"])\n",
        "\n",
        "#Chave Parente depois da Atualização\n",
        "dicionario[\"parente\"] = \"Alícia\"\n",
        "print(dicionario[\"parente\"]) \n",
        "\n",
        "#Tamanho do dicionário\n",
        "print(\"Tamanho do dicionário\")\n",
        "print(len(dicionario))\n",
        "#Como ficou o dicionário\n",
        "print(\"Como ficou o dicionário\")\n",
        "print(dicionario)\n",
        "\n",
        "#Recuperando as chaves do Dicionário\n",
        "print(\"Recuperando as chaves do Dicionário\")\n",
        "print(dicionario.keys())\n",
        "\n",
        "#Recuperando os valores do dicionário\n",
        "print(\"Recuperando os valores do dicionário\")\n",
        "print(dicionario.values())\n",
        "\n",
        "#Recuperando a estrutura de chave-valor do dicionário\n",
        "print(\"Recuperando a estrutura de chave-valor do dicionário\")\n",
        "print(dicionario.items())\n",
        "\n",
        "#Removendo o ítem\n",
        "print(\"Removendo o ítem\")\n",
        "dicionario.pop(\"parente\")\n",
        "dicionario.items()\n",
        "\n",
        "#Criando um dicionário composto\n",
        "print(\"Criando um dicionário composto\")\n",
        "filho1 = {\n",
        "  \"name\" : \"Rafaela\",\n",
        "  \"year\" : 2018\n",
        "}\n",
        "filho2 = {\n",
        "  \"name\" : \"Benicio\",\n",
        "  \"year\" : 2019\n",
        "}\n",
        "\n",
        "minhaFamilia = {\n",
        "  \"child1\" : filho1,\n",
        "  \"child2\" : filho2\n",
        "}\n",
        "\n",
        "#Criando um dicionário composto\n",
        "print(\"Criando um dicionário composto - verificando Itens\")\n",
        "minhaFamilia.items()\n",
        "\n",
        "\n",
        "#Percorrendo a estrutura aninhada\n",
        "print(\"Percorrendo a estrutura aninhada\")\n",
        "for x in minhaFamilia.keys():\n",
        "  print(x)\n",
        "  for j in minhaFamilia[x].values():\n",
        "    print(j)\n",
        "\n"
      ],
      "metadata": {
        "colab": {
          "base_uri": "https://localhost:8080/"
        },
        "id": "2rAI7JlVL1X3",
        "outputId": "6b9c4430-50c8-4502-e1bc-344bb31551ba"
      },
      "execution_count": 92,
      "outputs": [
        {
          "output_type": "stream",
          "name": "stdout",
          "text": [
            "Imprimindo o tipo de estrutura de dados\n",
            "<class 'dict'>\n",
            "Atualizando uma chave\n",
            "Marcel\n",
            "Alícia\n",
            "Tamanho do dicionário\n",
            "4\n",
            "Como ficou o dicionário\n",
            "{'mae': 'Melissa', 'parente': 'Alícia', 'filha': 'Rafaela', 'filho': 'Benício'}\n",
            "Recuperando as chaves do Dicionário\n",
            "dict_keys(['mae', 'parente', 'filha', 'filho'])\n",
            "Recuperando os valores do dicionário\n",
            "dict_values(['Melissa', 'Alícia', 'Rafaela', 'Benício'])\n",
            "Recuperando a estrutura de chave-valor do dicionário\n",
            "dict_items([('mae', 'Melissa'), ('parente', 'Alícia'), ('filha', 'Rafaela'), ('filho', 'Benício')])\n",
            "Removendo o ítem\n",
            "Criando um dicionário composto\n",
            "Criando um dicionário composto - verificando Itens\n",
            "Percorrendo a estrutura aninhada\n",
            "child1\n",
            "Rafaela\n",
            "2018\n",
            "child2\n",
            "Benicio\n",
            "2019\n"
          ]
        }
      ]
    },
    {
      "cell_type": "code",
      "source": [
        "from google.colab import drive\n",
        "\n",
        "drive.mount('/content/drive')"
      ],
      "metadata": {
        "id": "jDwTtxBbSk86",
        "outputId": "7bdc4e6c-fce3-40ae-eef4-5f7d82fa8965",
        "colab": {
          "base_uri": "https://localhost:8080/"
        }
      },
      "execution_count": 98,
      "outputs": [
        {
          "output_type": "stream",
          "name": "stdout",
          "text": [
            "Drive already mounted at /content/drive; to attempt to forcibly remount, call drive.mount(\"/content/drive\", force_remount=True).\n"
          ]
        }
      ]
    },
    {
      "cell_type": "code",
      "source": [
        "import csv as csv\n",
        "\n",
        "caminho_arquivo = \"/content/drive/MyDrive/44 - Apresentações/01 - TERA/02  - Python/01 - Workshop 01/notas.csv\" \n",
        "\n",
        "with open(caminho_arquivo) as f:\n",
        "    reader = csv.DictReader(f)\n",
        "    for row in reader:\n",
        "        print(row)\n",
        "\n",
        "\n"
      ],
      "metadata": {
        "id": "4FN09t72S0Do",
        "outputId": "58bec0eb-407a-441f-a953-ebf95987a678",
        "colab": {
          "base_uri": "https://localhost:8080/"
        }
      },
      "execution_count": 99,
      "outputs": [
        {
          "output_type": "stream",
          "name": "stdout",
          "text": [
            "OrderedDict([('1;Rafaela Aimi;10.0;4.5;3.0', '2;Benício Akira;5.0;8.0;7.0')])\n",
            "OrderedDict([('1;Rafaela Aimi;10.0;4.5;3.0', '3;Marcel Rodrigo;10.0;8.0;')])\n",
            "OrderedDict([('1;Rafaela Aimi;10.0;4.5;3.0', '4;Vladimir Junior;7.0'), (None, ['7.0;5'])])\n",
            "OrderedDict([('1;Rafaela Aimi;10.0;4.5;3.0', '5;Marcel Cozono;5.0;5.0;8.0')])\n"
          ]
        }
      ]
    }
  ]
}