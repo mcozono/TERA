{
  "nbformat": 4,
  "nbformat_minor": 0,
  "metadata": {
    "colab": {
      "provenance": [],
      "collapsed_sections": [],
      "toc_visible": true,
      "include_colab_link": true
    },
    "kernelspec": {
      "name": "python3",
      "display_name": "Python 3"
    },
    "language_info": {
      "name": "python"
    }
  },
  "cells": [
    {
      "cell_type": "markdown",
      "metadata": {
        "id": "view-in-github",
        "colab_type": "text"
      },
      "source": [
        "<a href=\"https://colab.research.google.com/github/mcozono/TERA/blob/main/01%20-%20Python/01%20-%20Workshop%20Python%201/Workshop_Python_1.ipynb\" target=\"_parent\"><img src=\"https://colab.research.google.com/assets/colab-badge.svg\" alt=\"Open In Colab\"/></a>"
      ]
    },
    {
      "cell_type": "markdown",
      "source": [
        "#**Seja bem vindo ao Workshop de Python da TERA !**\n",
        "\n",
        "# **É muito bom ter você aqui ! :)**\n",
        "\n",
        "**Abordaremos os seguintes aspectos da programação em Python:**\n",
        "\n",
        "*   O que é o Python\n",
        "*   Ambiente de Desenvolvimento: Google Collab, Pycharm, Anaconda - Jupyter\n",
        "*   Estruturas de Dados Simples como Variáveis Nativas do Interpretador\n",
        "*   Operadores Lógicos como **and** e **or**\n",
        "*   Estruturas Compostas como Listas, Tuplas e Dicionários\n",
        "*   Estruturas Condicionais como **if**, **for**, **while*\n",
        " simples e compostas\n",
        "\n",
        "\n",
        "\n"
      ],
      "metadata": {
        "id": "OCNgspshXctV"
      }
    },
    {
      "cell_type": "code",
      "source": [],
      "metadata": {
        "id": "gBS0xJDepGwL"
      },
      "execution_count": null,
      "outputs": []
    },
    {
      "cell_type": "markdown",
      "source": [
        "# **Ambientes de Desenvolvimento**\n",
        "\n",
        "\n",
        "\n",
        "1.   Google Collab - Free, não precisa instalar e oferece uso de GPU e conecta no Google Drive - [colab.research.google.com](https://colab.research.google.com)\n",
        "2.   Pycharm - Versão Community ou Paga - Necessita de instalação tanto do Python em sua máquina bem como da IDE (Ambiente de Desenvolvimento) em sua máquina - https://www.jetbrains.com/pt-br/pycharm-edu/\n",
        "3.   Visual Studio Code - IDE Free da Microsoft que permite desenvolver com mais de uma linguagem no mesmo ambiente - https://code.visualstudio.com/\n",
        "4.  Anaconda - Suíte de Desenvolvimento Free e gestão de dependências e ambientes. Praticamente um canivete suíço para Análise e Ciência de Dados - https://www.anaconda.com/\n",
        "5.  Jupyter Notebook - Interface de Desenvolvimento Online Free que pode ser utilizado local ou pela internet - https://jupyter.org/\n",
        "\n",
        "\n"
      ],
      "metadata": {
        "id": "gQ8adi23aRBd"
      }
    },
    {
      "cell_type": "markdown",
      "source": [
        "#**Estratégia e Algoritmo:**\n",
        "\n",
        "**O que é um Algoritmo**\n",
        "\n",
        "*   Ações necessárias para atingir um objetivo\n",
        "*   Representação de como resolvemos um determinado problema\n",
        "* Será executado linha a linha pelo compilador ou interpretador\n",
        "* Geralmente os algoritmos dependem de algumas informações para iniciarem a sua execução : entrada\n",
        "* Os algoritmos geralmente geram uma saída após o seu processamento\n",
        "\n",
        "\n",
        "**Vamos planejar nosso desenvolvimento**\n",
        "\n",
        "1.   Leitura do Arquivo csv\n",
        "2.   Separação dos registros e criação da estrutura de dados\n",
        "3.   Cálculo da Média Geral\n",
        "4.   Verificação de Aprovação\n",
        "5.   Impressão do Resultado do Aluno\n",
        "6.   Cálculo do Acumulado pela Turma\n",
        "7.   Impressão da Média Geral\n",
        "\n",
        "\n",
        "\n"
      ],
      "metadata": {
        "id": "8TsK0WCV7gOf"
      }
    },
    {
      "cell_type": "markdown",
      "source": [
        "#**Estruturas de Dados**\n",
        "\n",
        "**Variáveis**\n",
        "\n",
        "Espaço em memória para armazenamento temporário de valores para processamento.\n",
        "\n",
        "Elas podem ser:\n",
        "\n",
        "  * **Primitivas** - Fazem parte do compilador ou interpretador\n",
        "  * **Compostas** - São definidas pelo desenvolvedor\n",
        "\n",
        "**E ainda podem se subdividir em:**\n",
        "  * **Mutáveis** - Permitem ter o seu conteúdo substituído ou alterado\n",
        "  * **Não Mutáveis** - Seu conteúdo não pode ser substituído\n",
        "\n",
        "\n",
        "**Variáveis e o Python**\n",
        "\n",
        "O Python é uma linguagem **FORTEMENTE TIPADA**, e o que é isso ?\n",
        "\n",
        "  Significa que ele valida o tipo do conteúdo e aloca o espaço de memória de acordo com este tipo. Porém ele o identifica de forma automática, sem precisar de uma definição explícita.\n",
        "\n",
        "Porém, uma vez definido, o interpretador não faz a conversão automática, e em caso de execuções com funções que esperam como parâmetro uma string, o interpretador poderá retornar erro para esta execução.\n",
        "\n",
        "\n",
        "**Condicionais para usarmos nas estruturas de decisão e laço**\n",
        "\n",
        "\n",
        "**Igual:** a == b\n",
        "\n",
        "**Diferente:**a != b\n",
        "\n",
        "**Menor que:** a < b\n",
        "\n",
        "**Menor ou igual a:** a <= b\n",
        "\n",
        "**Maior que:** a > b\n",
        "\n",
        "**Maior ou igual que:** a >= b\n",
        "\n"
      ],
      "metadata": {
        "id": "ghlfbxgXcdd0"
      }
    },
    {
      "cell_type": "markdown",
      "source": [
        "#**Decisores e Laços Condicionais:**\n",
        "\n",
        "**IF - Condição SE**\n",
        "```\n",
        "a = 33\n",
        "\n",
        "b = 200\n",
        "\n",
        "if b > a:\n",
        "  print(\"b é maior que a\")\n",
        "```\n",
        "\n",
        "**ELIF - SENÃO SE**\n",
        "```\n",
        "a = 33\n",
        "b = 33\n",
        "\n",
        "if b > a:\n",
        "  print(\"b é maior que  a\")\n",
        "\n",
        "elif a == b:\n",
        "  print(\"a e b são iguais\")\n",
        "\n",
        "```\n",
        "\n",
        "**FOR - Condição PARA**\n",
        "```\n",
        "frutas = [\"maçã\", \"banana\", \"cereja\"]\n",
        "\n",
        "for fruta in frutas:\n",
        "    print(fruta)\n",
        "```\n",
        "\n",
        "**ENQUANTO - Condição PARA**\n",
        "```\n",
        "i = 1\n",
        "while i < 6:\n",
        "  print(i)\n",
        "  i += 1\n",
        "```"
      ],
      "metadata": {
        "id": "1yuQBQgseN_6"
      }
    },
    {
      "cell_type": "markdown",
      "source": [
        "#**Tipos Primitivos e Compostos**"
      ],
      "metadata": {
        "id": "QJFlrSl9R-rO"
      }
    },
    {
      "cell_type": "code",
      "source": [
        "\n",
        "nome = \"Melissa\"\n",
        "idade = 42\n",
        "altura = 1.64\n",
        "peso = 70.5\n",
        "\n",
        "print('Aprendendo sobre tipos primitivos')\n",
        "\n",
        "print(type(nome))\n",
        "\n",
        "#endereco de memoria da variável\n",
        "print(hex(id(nome)))\n",
        "\n",
        "\n",
        "print(type(idade))\n",
        "print(type(altura))\n",
        "print(type(peso))\n",
        "\n",
        "#com erro\n",
        "print('Tipo de variável altura ' + str(type(altura)))\n",
        "\n",
        "#como corrigir\n",
        "print('Tipo da variável altura: ' + str(type(altura)))\n",
        "print('Tipo da variável nome: ' + str(type(nome)))\n",
        "print('Tipo da variável idade: ' + str(type(idade)))\n",
        "print('Tipo da variável altura: ' + str(type(altura))) \n",
        "print('Tipo da variável altura: ' + str(type(peso)))"
      ],
      "metadata": {
        "colab": {
          "base_uri": "https://localhost:8080/"
        },
        "id": "e9pUSDSFsGMt",
        "outputId": "fc79ab7b-ebd0-4d5a-c119-e8ed0fe5f066"
      },
      "execution_count": null,
      "outputs": [
        {
          "output_type": "stream",
          "name": "stdout",
          "text": [
            "Aprendendo sobre tipos primitivos\n",
            "<class 'str'>\n",
            "0x7f27b55f90f0\n",
            "<class 'int'>\n",
            "<class 'float'>\n",
            "<class 'float'>\n",
            "Tipo de variável altura <class 'float'>\n",
            "Tipo da variável altura: <class 'float'>\n",
            "Tipo da variável nome: <class 'str'>\n",
            "Tipo da variável idade: <class 'int'>\n",
            "Tipo da variável altura: <class 'float'>\n",
            "Tipo da variável altura: <class 'float'>\n"
          ]
        }
      ]
    },
    {
      "cell_type": "markdown",
      "source": [
        "#**Tuplas**\n"
      ],
      "metadata": {
        "id": "Ah0p3kLLGbzD"
      }
    },
    {
      "cell_type": "code",
      "source": [
        "tupla = tuple()\n",
        "print(type(tupla))\n",
        "\n",
        "#Criando tupla com ítens\n",
        "tupla_com_valores =(1, 2, 3)\n",
        "\n",
        "#Qual o tamanho da minha Tupla ?\n",
        "print('Tupla Original')\n",
        "print(len(tupla_com_valores))\n",
        "\n",
        "#Tuplas são imutáveis, não é permitido adicionar valores a tupla diretamente, mas temos como resolver :)\n",
        "tupla_com_valores = tupla_com_valores + (4,)\n",
        "\n",
        "#Qual o tamanho da minha Tupla ?\n",
        "print('Adicionei nova posição')\n",
        "print(str(len(tupla_com_valores)) + \"\\n\")\n",
        "\n",
        "\n",
        "\n",
        "#Percorrer a tupla\n",
        "for item in tupla_com_valores:\n",
        "  print(str(item) + \"\\n\")\n",
        "\n",
        "\n",
        "\n",
        "#vamos somar os ítens da tupla ?\n",
        "calculo = 0\n",
        "for item in tupla_com_valores:\n",
        "    calculo += item #incremental\n",
        "  \n",
        "\n",
        "print('Resultado da soma '+ str(calculo))\n",
        "\n",
        "#Pesquisa na Tupla\n",
        "tupla_com_valores.index(2)"
      ],
      "metadata": {
        "colab": {
          "base_uri": "https://localhost:8080/"
        },
        "id": "77tWJjTwEpMv",
        "outputId": "565092ef-87af-422c-eaa3-30052a72c0a4"
      },
      "execution_count": null,
      "outputs": [
        {
          "output_type": "stream",
          "name": "stdout",
          "text": [
            "<class 'tuple'>\n",
            "Tupla Original\n",
            "3\n",
            "Adicionei nova posição\n",
            "4\n",
            "\n",
            "1\n",
            "\n",
            "2\n",
            "\n",
            "3\n",
            "\n",
            "4\n",
            "\n",
            "Resultado da soma 10\n"
          ]
        },
        {
          "output_type": "execute_result",
          "data": {
            "text/plain": [
              "1"
            ]
          },
          "metadata": {},
          "execution_count": 162
        }
      ]
    },
    {
      "cell_type": "markdown",
      "source": [
        "#**Listas**"
      ],
      "metadata": {
        "id": "op2x3sZgSPXb"
      }
    },
    {
      "cell_type": "code",
      "source": [
        "lista = list()\n",
        "\n",
        "print (type(lista))\n",
        "\n",
        "#Criando lista com ítens\n",
        "lista_com_valores = [1, 2, 3]\n",
        "\n",
        "\n",
        "#Qual o tamanho da minha Lista ?\n",
        "print('Tamanho da Lista')\n",
        "print(len(lista_com_valores))\n",
        "\n",
        "\n",
        "#Adicionando um ítem ao fim da lista\n",
        "print('Adicionando um ítem ao fim da lista')\n",
        "lista_com_valores.append(4)\n",
        "print(len(lista_com_valores))\n",
        "\n",
        "#Adicionando um ítem em uma posição na lista\n",
        "print('Adicionando um ítem em uma posição na lista')\n",
        "lista_com_valores.insert(4,1)\n",
        "\n",
        "print('Tamanho da lista após adicionar um ítem')\n",
        "print(len(lista_com_valores))\n",
        "\n",
        "#percorrendo items da lista com valores\n",
        "print('percorrendo items da lista com valores')\n",
        "for item in lista_com_valores:\n",
        "  print(item)\n",
        "\n",
        "#lista apos remocao\n",
        "#print(len(lista_com_valores))\n",
        "\n",
        "#após a remoção como ficoiu a lista\n",
        "print('percorrendo items da lista com valores')\n",
        "for item in lista_com_valores:\n",
        "  print(item)\n",
        "\n",
        "#ordenação reversa\n",
        "lista_com_valores.sort(reverse=True) #pode ser usado como variavel.reverse()\n",
        "print('percorrendo items da lista com valores, após ordenação reversa')\n",
        "for item in lista_com_valores:\n",
        "  print(item)\n",
        "\n",
        "\n",
        "#ordenação crescente\n",
        "lista_com_valores.sort()\n",
        "print('percorrendo items da lista com valores, após ordenação crescente')\n",
        "\n",
        "for item in lista_com_valores:\n",
        "  print(item)\n",
        "\n",
        "\n"
      ],
      "metadata": {
        "colab": {
          "base_uri": "https://localhost:8080/"
        },
        "id": "t_6M5MKNGbik",
        "outputId": "4d5eb801-8cfa-4583-d7ad-e0c767f9434c"
      },
      "execution_count": null,
      "outputs": [
        {
          "output_type": "stream",
          "name": "stdout",
          "text": [
            "<class 'list'>\n",
            "Tamanho da Lista\n",
            "3\n",
            "Adicionando um ítem ao fim da lista\n",
            "4\n",
            "Adicionando um ítem em uma posição na lista\n",
            "Tamanho da lista após adicionar um ítem\n",
            "5\n",
            "percorrendo items da lista com valores\n",
            "1\n",
            "2\n",
            "3\n",
            "4\n",
            "1\n",
            "percorrendo items da lista com valores\n",
            "1\n",
            "2\n",
            "3\n",
            "4\n",
            "1\n",
            "percorrendo items da lista com valores, após ordenação reversa\n",
            "4\n",
            "3\n",
            "2\n",
            "1\n",
            "1\n",
            "percorrendo items da lista com valores, após ordenação crescente\n",
            "1\n",
            "1\n",
            "2\n",
            "3\n",
            "4\n"
          ]
        }
      ]
    },
    {
      "cell_type": "code",
      "source": [
        "\n",
        "#remover ítem da lista informando a sua posição\n",
        "#Criando lista com ítens\n",
        "lista_com_valores = [1, 2, 3]\n",
        "\n",
        "print(\"remover ítem da lista informando a sua posição\")\n",
        "lista_com_valores.pop(0)\n",
        "\n",
        "#ordenação crescente\n",
        "lista_com_valores.sort()\n",
        "print('percorrendo items da lista com valores, após ordenação crescente')\n",
        "\n",
        "for item in lista_com_valores:\n",
        "  print(item)"
      ],
      "metadata": {
        "colab": {
          "base_uri": "https://localhost:8080/"
        },
        "id": "Vd_vx4HqXTJh",
        "outputId": "10c4bbd8-038c-4d5f-e9d8-6f6ba0b47d40"
      },
      "execution_count": null,
      "outputs": [
        {
          "output_type": "stream",
          "name": "stdout",
          "text": [
            "remover ítem da lista informando a sua posição\n"
          ]
        },
        {
          "output_type": "execute_result",
          "data": {
            "text/plain": [
              "1"
            ]
          },
          "metadata": {},
          "execution_count": 170
        }
      ]
    },
    {
      "cell_type": "markdown",
      "source": [
        "#**Dicionários**"
      ],
      "metadata": {
        "id": "C28Pt5GFSSPr"
      }
    },
    {
      "cell_type": "code",
      "source": [
        "dicionario = {\"mae\": \"Melissa\", \n",
        "              \"parente\": \"Marcel\", \n",
        "              \"filha\": \"Rafaela\", \n",
        "              \"filho\": \"Benício\"}\n",
        "              \n",
        "\n",
        "#tipo de estrutura\n",
        "print(\"Imprimindo o tipo de estrutura de dados\")\n",
        "print(type(dicionario))\n",
        "\n",
        "\n",
        "#Atualizando uma chave\n",
        "print(\"Atualizando uma chave\")\n",
        "#Chave Parente antres da Atualização\n",
        "print(dicionario[\"parente\"])\n",
        "\n",
        "#Chave Parente depois da Atualização\n",
        "dicionario[\"parente\"] = \"Alícia\"\n",
        "print(dicionario[\"parente\"]) \n",
        "\n",
        "#Tamanho do dicionário\n",
        "print(\"Tamanho do dicionário\")\n",
        "print(len(dicionario))\n",
        "\n",
        "#Como ficou o dicionário\n",
        "print(\"Como ficou o dicionário\")\n",
        "print(dicionario)\n",
        "\n",
        "#Recuperando as chaves do Dicionário\n",
        "print(\"Recuperando as chaves do Dicionário\")\n",
        "print(dicionario.keys())\n",
        "\n",
        "#Recuperando os valores do dicionário\n",
        "print(\"Recuperando os valores do dicionário\")\n",
        "print(dicionario.values())\n",
        "\n",
        "#Recuperando a estrutura de chave-valor do dicionário\n",
        "print(\"Recuperando a estrutura de chave-valor do dicionário\")\n",
        "print(dicionario.items())\n",
        "\n",
        "#Removendo o ítem\n",
        "print(\"Removendo o ítem\")\n",
        "dicionario.pop(\"parente\")\n",
        "print(dicionario.items())\n",
        "\n",
        "#Criando um dicionário composto\n",
        "print(\"Criando um dicionário composto\")\n",
        "filho1 = {\n",
        "  \"name\" : \"Rafaela\",\n",
        "  \"year\" : 2018\n",
        "}\n",
        "\n",
        "filho2 = {\n",
        "  \"name\" : \"Benicio\",\n",
        "  \"year\" : 2019\n",
        "}\n",
        "\n",
        "minhaFamilia = {\n",
        "  \"child1\" : filho1,\n",
        "  \"child2\" : filho2\n",
        "}\n",
        "\n",
        "#Criando um dicionário composto\n",
        "print(\"Criando um dicionário composto - verificando Itens\")\n",
        "print(minhaFamilia.items())\n",
        "\n",
        "\n",
        "#Percorrendo a estrutura aninhada\n",
        "print(\"Percorrendo a estrutura aninhada\")\n",
        "for x in minhaFamilia.keys():\n",
        "  print(x)\n",
        "  for j in minhaFamilia[x].values():\n",
        "    print(j)\n",
        "\n"
      ],
      "metadata": {
        "colab": {
          "base_uri": "https://localhost:8080/"
        },
        "id": "2rAI7JlVL1X3",
        "outputId": "75611205-6def-4282-ad17-8e9b32a17488"
      },
      "execution_count": null,
      "outputs": [
        {
          "output_type": "stream",
          "name": "stdout",
          "text": [
            "Imprimindo o tipo de estrutura de dados\n",
            "<class 'dict'>\n",
            "Atualizando uma chave\n",
            "Marcel\n",
            "Alícia\n",
            "Tamanho do dicionário\n",
            "4\n",
            "Como ficou o dicionário\n",
            "{'mae': 'Melissa', 'parente': 'Alícia', 'filha': 'Rafaela', 'filho': 'Benício'}\n",
            "Recuperando as chaves do Dicionário\n",
            "dict_keys(['mae', 'parente', 'filha', 'filho'])\n",
            "Recuperando os valores do dicionário\n",
            "dict_values(['Melissa', 'Alícia', 'Rafaela', 'Benício'])\n",
            "Recuperando a estrutura de chave-valor do dicionário\n",
            "dict_items([('mae', 'Melissa'), ('parente', 'Alícia'), ('filha', 'Rafaela'), ('filho', 'Benício')])\n",
            "Removendo o ítem\n",
            "dict_items([('mae', 'Melissa'), ('filha', 'Rafaela'), ('filho', 'Benício')])\n",
            "Criando um dicionário composto\n",
            "Criando um dicionário composto - verificando Itens\n",
            "dict_items([('child1', {'name': 'Rafaela', 'year': 2018}), ('child2', {'name': 'Benicio', 'year': 2019})])\n",
            "Percorrendo a estrutura aninhada\n",
            "child1\n",
            "Rafaela\n",
            "2018\n",
            "child2\n",
            "Benicio\n",
            "2019\n"
          ]
        }
      ]
    },
    {
      "cell_type": "code",
      "source": [
        "from google.colab import drive\n",
        "\n",
        "drive.mount('/content/drive')"
      ],
      "metadata": {
        "id": "jDwTtxBbSk86",
        "outputId": "7bdc4e6c-fce3-40ae-eef4-5f7d82fa8965",
        "colab": {
          "base_uri": "https://localhost:8080/"
        }
      },
      "execution_count": null,
      "outputs": [
        {
          "output_type": "stream",
          "name": "stdout",
          "text": [
            "Drive already mounted at /content/drive; to attempt to forcibly remount, call drive.mount(\"/content/drive\", force_remount=True).\n"
          ]
        }
      ]
    },
    {
      "cell_type": "markdown",
      "source": [
        "#**Estudo de Caso**\n",
        "\n",
        "Temos uma lista de notas da turma de Python 101 compostas dos resultados das avaliações N1, N2, Sub formatada em um arquivo csv.\n",
        "\n",
        "Nossa missão é calcular a Média Final e exibir o resultado da turma por aluno e depois a Méda Global da Turma.\n",
        "\n",
        "---\n",
        "**Segue forma de cálculo da métrica:**\n",
        "\n",
        "**MF** = (((N1 x 0.4) + (N2 x 0.6)) /(N1+N2)).\n",
        "\n",
        "**Caso não tenha atingido a Média com a N1 e N2:**\n",
        "\n",
        "**MF com Sub** = (((N1 x 0.4) + (N2 x 0.6)) + Sub /(N1+N2+Sub))\n",
        "\n",
        "--- \n",
        "\n",
        "A Sub só é aplicada quando o aluno não atinge a média com a N1 e N2.\n",
        "\n",
        "**O Aluno é aprovado em caso de Média Final Maior ou Igual a 7. Menor que 7 o aluno é encaminhado para DP.**\n",
        "\n",
        "\n"
      ],
      "metadata": {
        "id": "1jaK5QEYZZfp"
      }
    },
    {
      "cell_type": "markdown",
      "source": [
        "**Layout do Arquivo**\n",
        "\n",
        "matricula,nome,n1,n2,sub\n",
        "\n",
        "**Dicionário de Dados**\n",
        "\n",
        "Dicionário de Dados é um artefato de arquitetura de dados que documenta a estrutura de uma entrada de dados, criando um \"contrato\" entre utilizadores da estrutura.\n",
        "\n",
        "\n",
        "|Campo |Tipo |Posição\n",
        "|:-----: |:----: |:-------:\n",
        "|matricula|Inteiro|1\n",
        "|nome|Alfanumérico|2\n",
        "|n1|Real|3\n",
        "|n2|Real|4\n",
        "|sub|Real|5\n",
        "\n",
        "---\n",
        "\n",
        "\n"
      ],
      "metadata": {
        "id": "CaI8FUMX7tTs"
      }
    },
    {
      "cell_type": "markdown",
      "source": [
        "#**Live Coding**\n",
        "\n"
      ],
      "metadata": {
        "id": "0_hwyYYhb6tS"
      }
    },
    {
      "cell_type": "code",
      "source": [
        "import csv as csv\n",
        "\n",
        "\n",
        "caminho_arquivo = \"/content/drive/MyDrive/44 - Apresentações/01 - TERA/02  - Python/01 - Workshop 01/notas.csv\" \n",
        "\n",
        "total_alunos = 0\n",
        "nota_total  = 0.0\n",
        "with open(caminho_arquivo) as f:\n",
        "\n",
        "    reader = csv.DictReader(f)\n",
        "    print(\"nr de linhas\")\n",
        "    #print(reader.line_num)\n",
        "    for aluno in reader:\n",
        "        total_alunos += 1\n",
        "\n",
        "        codigo_aluno = aluno[\"codigo_aluno\"]\n",
        "        nome_aluno = aluno[\"nome_aluno\"]\n",
        "        n1 = float(aluno[\"n1\"])\n",
        "        n2 = float(aluno[\"n2\"])\n",
        "        sub = float(aluno[\"sub\"])\n",
        "   \n",
        "        soma_notas_regular = n1+ n2\n",
        "        media_ponderada_regular = (((n1*0.4) + (n2 * 0.6))/\n",
        "                                   soma_notas_regular)*10\n",
        "\n",
        "        print(\"Código \"+ codigo_aluno + \" - Aluno \" + nome_aluno)\n",
        "        \n",
        "        if float(media_ponderada_regular) >= 7:\n",
        "          print(\"Aprovado \\n\")\n",
        "          nota_total += media_ponderada_regular\n",
        "        else:\n",
        "          print(\"Foi para sub\")\n",
        "\n",
        "          soma_notas_sub= soma_notas_regular + sub\n",
        "          media_ponderada_sub = (((n1*0.4) + (n2 * 0.6) + sub)/\n",
        "                                 soma_notas_sub)*10\n",
        "          nota_total += media_ponderada_sub\n",
        "\n",
        "          if float(media_ponderada_sub) >= 7:\n",
        "            print(\"Aprovado com sub\")\n",
        "          else:\n",
        "           print(\"reprovado\")\n",
        "          \n",
        "          print(\"Média com sub: \"+ str(media_ponderada_sub) + \"\\n\")\n",
        "\n",
        "\n",
        "          print(\"resultado final - media global\")\n",
        "\n",
        "          mg = (nota_total / total_alunos)\n",
        "          print(str(mg) + \" - Média Global\")\n"
      ],
      "metadata": {
        "id": "4FN09t72S0Do",
        "outputId": "26eefad6-b680-456b-872d-e520cac05b6d",
        "colab": {
          "base_uri": "https://localhost:8080/"
        }
      },
      "execution_count": null,
      "outputs": [
        {
          "output_type": "stream",
          "name": "stdout",
          "text": [
            "nr de linhas\n",
            "Código 1 - Aluno Rafaela Aimi\n",
            "Foi para sub\n",
            "reprovado\n",
            "Média com sub: 5.542857142857143\n",
            "\n",
            "resultado final - media global\n",
            "5.542857142857143 - Média Global\n",
            "Código 2 - Aluno Benício Akira\n",
            "Foi para sub\n",
            "reprovado\n",
            "Média com sub: 6.9\n",
            "\n",
            "resultado final - media global\n",
            "6.2214285714285715 - Média Global\n",
            "Código 3 - Aluno Marcel Rodrigo\n",
            "Foi para sub\n",
            "reprovado\n",
            "Média com sub: 4.888888888888889\n",
            "\n",
            "resultado final - media global\n",
            "5.777248677248678 - Média Global\n",
            "Código 4 - Aluno Vladimir Junior\n",
            "Foi para sub\n",
            "reprovado\n",
            "Média com sub: 6.315789473684211\n",
            "\n",
            "resultado final - media global\n",
            "5.91188387635756 - Média Global\n",
            "Código 5 - Aluno Marcel Cozono\n",
            "Foi para sub\n",
            "Aprovado com sub\n",
            "Média com sub: 7.222222222222222\n",
            "\n",
            "resultado final - media global\n",
            "6.1739515455304925 - Média Global\n"
          ]
        }
      ]
    },
    {
      "cell_type": "code",
      "source": [
        "!pip install seaborn"
      ],
      "metadata": {
        "colab": {
          "base_uri": "https://localhost:8080/"
        },
        "id": "R8uJism-dLYn",
        "outputId": "93341318-79f0-466f-b549-b64cd9d91772"
      },
      "execution_count": null,
      "outputs": [
        {
          "output_type": "stream",
          "name": "stdout",
          "text": [
            "Looking in indexes: https://pypi.org/simple, https://us-python.pkg.dev/colab-wheels/public/simple/\n",
            "Requirement already satisfied: seaborn in /usr/local/lib/python3.7/dist-packages (0.11.2)\n",
            "Requirement already satisfied: scipy>=1.0 in /usr/local/lib/python3.7/dist-packages (from seaborn) (1.7.3)\n",
            "Requirement already satisfied: matplotlib>=2.2 in /usr/local/lib/python3.7/dist-packages (from seaborn) (3.2.2)\n",
            "Requirement already satisfied: pandas>=0.23 in /usr/local/lib/python3.7/dist-packages (from seaborn) (1.3.5)\n",
            "Requirement already satisfied: numpy>=1.15 in /usr/local/lib/python3.7/dist-packages (from seaborn) (1.21.6)\n",
            "Requirement already satisfied: cycler>=0.10 in /usr/local/lib/python3.7/dist-packages (from matplotlib>=2.2->seaborn) (0.11.0)\n",
            "Requirement already satisfied: pyparsing!=2.0.4,!=2.1.2,!=2.1.6,>=2.0.1 in /usr/local/lib/python3.7/dist-packages (from matplotlib>=2.2->seaborn) (3.0.9)\n",
            "Requirement already satisfied: python-dateutil>=2.1 in /usr/local/lib/python3.7/dist-packages (from matplotlib>=2.2->seaborn) (2.8.2)\n",
            "Requirement already satisfied: kiwisolver>=1.0.1 in /usr/local/lib/python3.7/dist-packages (from matplotlib>=2.2->seaborn) (1.4.4)\n",
            "Requirement already satisfied: typing-extensions in /usr/local/lib/python3.7/dist-packages (from kiwisolver>=1.0.1->matplotlib>=2.2->seaborn) (4.1.1)\n",
            "Requirement already satisfied: pytz>=2017.3 in /usr/local/lib/python3.7/dist-packages (from pandas>=0.23->seaborn) (2022.2.1)\n",
            "Requirement already satisfied: six>=1.5 in /usr/local/lib/python3.7/dist-packages (from python-dateutil>=2.1->matplotlib>=2.2->seaborn) (1.15.0)\n"
          ]
        }
      ]
    },
    {
      "cell_type": "code",
      "source": [
        "!python --version"
      ],
      "metadata": {
        "colab": {
          "base_uri": "https://localhost:8080/"
        },
        "id": "Nn2U-nsQdLRc",
        "outputId": "1f963e20-734f-4fd3-b473-aa1873946225"
      },
      "execution_count": null,
      "outputs": [
        {
          "output_type": "stream",
          "name": "stdout",
          "text": [
            "Python 3.7.14\n"
          ]
        }
      ]
    },
    {
      "cell_type": "code",
      "source": [],
      "metadata": {
        "id": "l6BbRC1jdfCg"
      },
      "execution_count": null,
      "outputs": []
    }
  ]
}